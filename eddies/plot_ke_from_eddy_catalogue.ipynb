{
 "cells": [
  {
   "metadata": {},
   "cell_type": "code",
   "source": [
    "import pandas as pd\n",
    "import os\n",
    "import matplotlib.pyplot as plt"
   ],
   "id": "912e6b28650ff989",
   "outputs": [],
   "execution_count": null
  },
  {
   "metadata": {},
   "cell_type": "code",
   "source": "output_folder = r\"D:\\04-Geneva_dummy\\03_24h-wind_extended\\params_06\\figures\"",
   "id": "880febe260126312",
   "outputs": [],
   "execution_count": null
  },
  {
   "metadata": {},
   "cell_type": "code",
   "source": [
    "lvl0_csv_path = r\"D:\\04-Geneva_dummy\\03_24h-wind_extended\\params_06\\eddy_catalogues_lvl0\\lvl0_20250701_20250714.csv\"\n",
    "lake_csv_path = r\"D:\\04-Geneva_dummy\\03_24h-wind_extended\\params_06\\eddy_catalogues_lvl0\\lake_characteristics_20250701_20250714.csv\""
   ],
   "id": "30f963ab89115eab",
   "outputs": [],
   "execution_count": null
  },
  {
   "metadata": {},
   "cell_type": "code",
   "source": [
    "df_lvl0 = pd.read_csv(lvl0_csv_path).set_index('date')\n",
    "df_lake = pd.read_csv(lake_csv_path).set_index('date')"
   ],
   "id": "a88adee7bcc9d56f",
   "outputs": [],
   "execution_count": null
  },
  {
   "metadata": {},
   "cell_type": "code",
   "source": "df_lvl0.head()",
   "id": "4629eff51e52b567",
   "outputs": [],
   "execution_count": null
  },
  {
   "metadata": {},
   "cell_type": "markdown",
   "source": "# Entire lake analysis",
   "id": "312fe3ec21e73033"
  },
  {
   "metadata": {},
   "cell_type": "code",
   "source": "eddy_ke = df_lvl0.groupby('date').sum()['kinetic_energy_eddy_[MJ]']",
   "id": "6bdc04c4bd252ba2",
   "outputs": [],
   "execution_count": null
  },
  {
   "metadata": {},
   "cell_type": "code",
   "source": "lake_ke = df_lake.groupby('date').sum()['kinetic_energy_[MJ]']",
   "id": "b5ca92bcded3c86b",
   "outputs": [],
   "execution_count": null
  },
  {
   "metadata": {},
   "cell_type": "code",
   "source": "eddy_ke.plot()",
   "id": "db2a8fa7b4b2cc2d",
   "outputs": [],
   "execution_count": null
  },
  {
   "metadata": {},
   "cell_type": "code",
   "source": [
    "fig = plt.figure(figsize=(10,5))\n",
    "ax = fig.add_subplot(1, 1, 1)\n",
    "lake_ke.plot(label='Entire lake')\n",
    "eddy_ke.plot(label='Eddies')\n",
    "plt.ylabel('Kinetic Energy [MJ]')\n",
    "plt.xlabel('')\n",
    "plt.xticks(rotation=10)\n",
    "plt.legend()\n",
    "#ax.set_yscale('log')\n",
    "fig.savefig(os.path.join(output_folder, \"kinetic_energy_whole_lake.png\"))"
   ],
   "id": "6e30a47ad323bd76",
   "outputs": [],
   "execution_count": null
  },
  {
   "metadata": {},
   "cell_type": "code",
   "source": "percentage_total_ke = 100 * eddy_ke / lake_ke[lake_ke.index.isin(eddy_ke.index)]",
   "id": "9cf385578710fc38",
   "outputs": [],
   "execution_count": null
  },
  {
   "metadata": {},
   "cell_type": "code",
   "source": [
    "fig = plt.figure(figsize=(10,5))\n",
    "ax = fig.add_subplot(1, 1, 1)\n",
    "percentage_total_ke.plot(label='Entire lake')\n",
    "plt.title('Fraction of total kinetic energy contained in eddies')\n",
    "plt.ylabel('Fraction [%]')\n",
    "plt.xlabel('')\n",
    "plt.xticks(rotation=10)\n",
    "plt.legend()"
   ],
   "id": "714e2e977edddf48",
   "outputs": [],
   "execution_count": null
  },
  {
   "metadata": {},
   "cell_type": "markdown",
   "source": "# Surface analysis",
   "id": "90d405de6d96e18b"
  },
  {
   "metadata": {},
   "cell_type": "code",
   "source": [
    "df_lvl0_surf = df_lvl0[df_lvl0['depth_index']==0]\n",
    "df_lake_surf = df_lake[df_lake['depth_index']==0]"
   ],
   "id": "bd0b8e3662639f76",
   "outputs": [],
   "execution_count": null
  },
  {
   "metadata": {},
   "cell_type": "code",
   "source": "surf_lvl0_sum = df_lvl0_surf.groupby('date').sum()",
   "id": "dcb70a3a1089f1ff",
   "outputs": [],
   "execution_count": null
  },
  {
   "metadata": {
    "ExecuteTime": {
     "end_time": "2025-09-23T19:15:33.263374Z",
     "start_time": "2025-09-23T19:15:33.217636Z"
    }
   },
   "cell_type": "markdown",
   "source": "surf_lvl0_sum['kinetic_energy_eddy_[MJ]'].reset_index().to_csv(r'D:\\04-Geneva_dummy\\03_24h-wind_extended\\energy_analysis\\surface_eddy_ke')",
   "id": "ed7a7d3e3c817b7a"
  },
  {
   "metadata": {
    "ExecuteTime": {
     "end_time": "2025-09-23T19:16:32.869438Z",
     "start_time": "2025-09-23T19:16:32.836957Z"
    }
   },
   "cell_type": "markdown",
   "source": "df_lake_surf[df_lake_surf.index.isin(surf_lvl0_sum.index)]['kinetic_energy_[MJ]'].reset_index().to_csv(r'D:\\04-Geneva_dummy\\03_24h-wind_extended\\energy_analysis\\ke_total_surface.csv')",
   "id": "f247d2e76c77f066"
  },
  {
   "metadata": {},
   "cell_type": "code",
   "source": "surf_lvl0_sum['percentage_total_ke_[%]'] = 100 * surf_lvl0_sum['kinetic_energy_eddy_[MJ]'] / df_lake_surf[df_lake_surf.index.isin(surf_lvl0_sum.index)]['kinetic_energy_[MJ]']",
   "id": "95ed5f348faaf8cf",
   "outputs": [],
   "execution_count": null
  },
  {
   "metadata": {},
   "cell_type": "code",
   "source": [
    "fig = plt.figure(figsize=(10,5))\n",
    "ax = fig.add_subplot(1, 1, 1)\n",
    "percentage_total_ke.plot(label='Entire lake')\n",
    "surf_lvl0_sum['percentage_total_ke_[%]'].plot(label='Lake surface')\n",
    "plt.title('Fraction of total kinetic energy contained in eddies')\n",
    "plt.ylabel('Fraction [%]')\n",
    "plt.xlabel('')\n",
    "plt.xticks(rotation=10)\n",
    "plt.legend()\n",
    "fig.savefig(os.path.join(output_folder, \"fraction_ke_in_eddies.png\"))"
   ],
   "id": "b1f99d8602d06f01",
   "outputs": [],
   "execution_count": null
  },
  {
   "metadata": {},
   "cell_type": "code",
   "source": [
    "fig = plt.figure(figsize=(10,5))\n",
    "ax = fig.add_subplot(1, 1, 1)\n",
    "df_lake_surf['kinetic_energy_[MJ]'].plot(label='Total')\n",
    "surf_lvl0_sum['kinetic_energy_eddy_[MJ]'].plot(label='Eddies')\n",
    "plt.legend()\n",
    "plt.ylabel('Kinetic Energy surface [MJ]')\n",
    "plt.xlabel('')\n",
    "plt.xticks(rotation=10)\n",
    "#ax.set_yscale('log')\n",
    "fig.savefig(os.path.join(output_folder, \"kinetic_energy_surface.png\"))"
   ],
   "id": "1048e6a5f9a3c0bb",
   "outputs": [],
   "execution_count": null
  },
  {
   "metadata": {},
   "cell_type": "code",
   "source": "df_lake_surf['kinetic_energy_[MJ]'].plot(label='Entire lake')",
   "id": "6d8748e68f2ea27d",
   "outputs": [],
   "execution_count": null
  },
  {
   "metadata": {},
   "cell_type": "code",
   "source": "surf_lvl0_sum['kinetic_energy_eddy_[MJ]'].plot()",
   "id": "41b87fda676518b2",
   "outputs": [],
   "execution_count": null
  },
  {
   "metadata": {},
   "cell_type": "code",
   "source": [
    "surf_lvl0_sum['surface_area_[m2]'].plot()\n",
    "df_lake_surf['surface_area_[m2]'].plot()"
   ],
   "id": "c794c6c307f1c18f",
   "outputs": [],
   "execution_count": null
  },
  {
   "metadata": {},
   "cell_type": "markdown",
   "source": "# Depth analysis",
   "id": "e296e8cff765106e"
  },
  {
   "metadata": {},
   "cell_type": "code",
   "source": "eddy_ke_by_depth_and_date = df_lvl0.groupby(['time_index', 'depth_[m]'])['kinetic_energy_eddy_[MJ]'].sum().reset_index()",
   "id": "eb12d10fa592b35c",
   "outputs": [],
   "execution_count": null
  },
  {
   "metadata": {},
   "cell_type": "code",
   "source": [
    "t_idx = 0\n",
    "fig, ax = plt.subplots(figsize=(5,7))\n",
    "\n",
    "# Lake KE profile\n",
    "df_lake[df_lake['time_index']==t_idx].plot(\n",
    "    x='kinetic_energy_[MJ]', y='depth_[m]', ax=ax, label='Lake KE'\n",
    ")\n",
    "\n",
    "# Eddy KE profile\n",
    "eddy_ke_by_depth_and_date[eddy_ke_by_depth_and_date['time_index']==t_idx].plot(\n",
    "    x='kinetic_energy_eddy_[MJ]', y='depth_[m]', ax=ax, label='Eddy KE'\n",
    ")\n",
    "\n",
    "ax.set_xlabel(\"Kinetic Energy [MJ]\")\n",
    "ax.set_ylabel(\"Depth [m]\")\n",
    "ax.legend()\n",
    "plt.title(df_lake[df_lake['time_index']==t_idx].index[0])\n",
    "ax.set_xlim(left=0, right=5000)\n",
    "plt.show()\n",
    "str_time = df_lake[df_lake['time_index']==t_idx].index[0].replace(' ','_').replace(':','-')\n",
    "fig.savefig(os.path.join(output_folder, \"profiles_ke\", f\"kinetic_energy_profile_{str_time}.png\"))"
   ],
   "id": "423744eef6cbd1be",
   "outputs": [],
   "execution_count": null
  },
  {
   "metadata": {},
   "cell_type": "code",
   "source": "",
   "id": "619dd4f2592ed595",
   "outputs": [],
   "execution_count": null
  }
 ],
 "metadata": {
  "kernelspec": {
   "display_name": "Python 3",
   "language": "python",
   "name": "python3"
  },
  "language_info": {
   "codemirror_mode": {
    "name": "ipython",
    "version": 2
   },
   "file_extension": ".py",
   "mimetype": "text/x-python",
   "name": "python",
   "nbconvert_exporter": "python",
   "pygments_lexer": "ipython2",
   "version": "2.7.6"
  }
 },
 "nbformat": 4,
 "nbformat_minor": 5
}
