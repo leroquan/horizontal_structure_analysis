{
 "cells": [
  {
   "cell_type": "code",
   "id": "initial_id",
   "metadata": {
    "collapsed": true
   },
   "source": [
    "import sys\n",
    "import numpy as np\n",
    "import xarray as xr\n",
    "import matplotlib.pyplot as plt\n",
    "\n",
    "sys.path.append('..//')\n",
    "from utils_mitgcm import open_mitgcm_ds_from_config\n",
    "import pylake"
   ],
   "outputs": [],
   "execution_count": null
  },
  {
   "metadata": {
    "collapsed": false,
    "jupyter": {
     "outputs_hidden": false
    }
   },
   "cell_type": "code",
   "source": [
    "model = 'geneva_dummy_extended'\n",
    "mitgcm_config, ds_to_plot = open_mitgcm_ds_from_config('..//config.json', model)"
   ],
   "id": "90e7e676c67344fa",
   "outputs": [],
   "execution_count": null
  },
  {
   "metadata": {},
   "cell_type": "code",
   "source": [
    "grid_resolution = 200\n",
    "ds_to_plot['YC'] = np.arange(1, len(ds_to_plot['YC'])+1) * grid_resolution - grid_resolution/2\n",
    "ds_to_plot['XC'] = np.arange(1, len(ds_to_plot['XC'])+1) * grid_resolution - grid_resolution/2\n",
    "ds_to_plot['YG'] = np.arange(0, len(ds_to_plot['YG'])) * grid_resolution\n",
    "ds_to_plot['XG'] = np.arange(0, len(ds_to_plot['XG'])) * grid_resolution"
   ],
   "id": "f0266288bb39ce34",
   "outputs": [],
   "execution_count": null
  },
  {
   "metadata": {},
   "cell_type": "code",
   "source": "mask = ds_to_plot.THETA.isel(time=0).values != 0",
   "id": "ddc29c7c6135a447",
   "outputs": [],
   "execution_count": null
  },
  {
   "metadata": {},
   "cell_type": "code",
   "source": [
    "plt.figure(figsize=(10,3))\n",
    "plt.imshow(ds_to_plot.THETA.isel(time=-1,Z=0).where(mask[0], np.nan))\n",
    "plt.gca().invert_yaxis()\n",
    "plt.colorbar()"
   ],
   "id": "8c3b8c22bf26361e",
   "outputs": [],
   "execution_count": null
  },
  {
   "metadata": {},
   "cell_type": "markdown",
   "source": "# Get temperature profile averaged over the entire lake",
   "id": "e74f14cab4f4800"
  },
  {
   "metadata": {},
   "cell_type": "code",
   "source": "ds_to_plot['theta_nan'] = ds_to_plot['THETA'].where(mask, np.nan)",
   "id": "8938c8388a9c951d",
   "outputs": [],
   "execution_count": null
  },
  {
   "metadata": {
    "ExecuteTime": {
     "end_time": "2025-09-24T10:03:19.957682Z",
     "start_time": "2025-09-24T10:03:06.428363Z"
    }
   },
   "cell_type": "markdown",
   "source": "ds_to_plot['mean_temp_profile'] = ds_to_plot.theta_nan.mean(dim=['XC','YC']).compute()",
   "id": "6a5227398e647f36"
  },
  {
   "metadata": {
    "ExecuteTime": {
     "end_time": "2025-09-24T10:03:20.764821Z",
     "start_time": "2025-09-24T10:03:20.061602Z"
    }
   },
   "cell_type": "markdown",
   "source": "ds_to_plot['mean_temp_profile'].plot()",
   "id": "37f0ddbb9597026e"
  },
  {
   "metadata": {},
   "cell_type": "markdown",
   "source": "# Get buoyancy frequency N",
   "id": "545b53c5813d057d"
  },
  {
   "metadata": {
    "ExecuteTime": {
     "end_time": "2025-09-24T07:43:40.946263Z",
     "start_time": "2025-09-24T07:43:36.066927Z"
    }
   },
   "cell_type": "markdown",
   "source": [
    "N_arr = []\n",
    "for t in range(ds_to_plot.sizes['time']):\n",
    "    snapshot_N = pylake.buoyancy_freq(ds_to_plot['mean_temp_profile'].isel(time=t).values, depth=ds_to_plot.Z.values, g=9.81)\n",
    "    snapshot_N['time'] = [ds_to_plot.time.isel(time=t).values]\n",
    "    N_arr.append(snapshot_N)"
   ],
   "id": "1710d0a4398c7d52"
  },
  {
   "metadata": {},
   "cell_type": "code",
   "source": [
    "def get_N_profile(temp_profile, depths):\n",
    "    N_profile = pylake.buoyancy_freq(temp_profile, depth=depths, g=9.81)\n",
    "\n",
    "    return N_profile"
   ],
   "id": "829e65bacf296c2b",
   "outputs": [],
   "execution_count": null
  },
  {
   "metadata": {
    "jupyter": {
     "is_executing": true
    }
   },
   "cell_type": "code",
   "source": [
    "xr_N = xr.apply_ufunc(get_N_profile,\n",
    "                      ds_to_plot.theta_nan,\n",
    "                      ds_to_plot.Z,\n",
    "                      input_core_dims=[['Z'], ['Z']],\n",
    "                      output_core_dims=[['avg_depth']],\n",
    "                      vectorize=True,\n",
    "                      dask='parallelized',\n",
    "                      output_dtypes=[float],\n",
    "                      output_sizes={'avg_depth': ds_to_plot.Z.size - 1}\n",
    "                      ).compute()"
   ],
   "id": "30b0cca29ff68cd1",
   "outputs": [],
   "execution_count": null
  },
  {
   "metadata": {},
   "cell_type": "code",
   "source": "xr_N.isel(time=0,XC=0,YC=0).plot()",
   "id": "fc919b760211d727",
   "outputs": [],
   "execution_count": null
  },
  {
   "metadata": {},
   "cell_type": "code",
   "source": [
    "N_mean = xr.concat(N_arr, dim='time')\n",
    "N_mean = N_mean.rename({'avg_depth':'Z'})"
   ],
   "id": "f431007cdb2a1ea",
   "outputs": [],
   "execution_count": null
  },
  {
   "metadata": {},
   "cell_type": "markdown",
   "source": "# Get vertical displacement",
   "id": "552acb34b8eb2e1f"
  },
  {
   "metadata": {},
   "cell_type": "code",
   "source": [
    "import numpy as np\n",
    "import xarray as xr\n",
    "\n",
    "def compute_isotherm_displacement(temp: xr.DataArray, isotherms, ref_time=0):\n",
    "    \"\"\"\n",
    "    Compute vertical displacement of isotherms.\n",
    "\n",
    "    Parameters\n",
    "    ----------\n",
    "    temp : xr.DataArray\n",
    "        Temperature field with dims (..., 'z'), typically ('time','z','y','x').\n",
    "    isotherms : float or list of float\n",
    "        Target isotherm value(s) in same units as `temp`.\n",
    "    ref_time : int or np.datetime64\n",
    "        Reference time index (default=0). Displacement is computed relative to this time.\n",
    "\n",
    "    Returns\n",
    "    -------\n",
    "    dz : xr.DataArray\n",
    "        Vertical displacement of isotherms, dims: (time, y, x, isotherm)\n",
    "    \"\"\"\n",
    "\n",
    "    if not isinstance(isotherms, (list, tuple, np.ndarray)):\n",
    "        isotherms = [isotherms]\n",
    "\n",
    "    z_coord = temp['z']\n",
    "\n",
    "    def z_from_temp(temp_prof, z_prof, T0):\n",
    "        \"\"\"Find depth where temp = T0, using linear interpolation.\"\"\"\n",
    "        return np.interp(T0, temp_prof[::-1], z_prof[::-1])  # reverse if z is positive down\n",
    "\n",
    "    z_iso_all = []\n",
    "    for iso in isotherms:\n",
    "        z_iso = xr.apply_ufunc(\n",
    "            z_from_temp,\n",
    "            temp,\n",
    "            z_coord,\n",
    "            iso,\n",
    "            input_core_dims=[['z'], ['z'], []],\n",
    "            vectorize=True,\n",
    "            dask=\"parallelized\",\n",
    "            output_dtypes=[float],\n",
    "        )\n",
    "        z_iso_all.append(z_iso.assign_coords(isotherm=iso))\n",
    "\n",
    "    # Combine into one DataArray\n",
    "    z_iso = xr.concat(z_iso_all, dim=\"isotherm\")\n",
    "\n",
    "    # Reference depth (at ref_time)\n",
    "    z0 = z_iso.isel(time=ref_time)\n",
    "\n",
    "    # Vertical displacement\n",
    "    dz = z_iso - z0\n",
    "\n",
    "    dz.name = \"isotherm_displacement\"\n",
    "    dz.attrs[\"description\"] = \"Vertical displacement of isotherms (relative to ref_time)\"\n",
    "    dz.attrs[\"reference_time\"] = str(temp['time'].values[ref_time])\n",
    "\n",
    "    return z_iso, dz\n"
   ],
   "id": "9fbe27b830864601",
   "outputs": [],
   "execution_count": null
  },
  {
   "metadata": {},
   "cell_type": "code",
   "source": [
    "def compute_iso_displacement_slice(theta_arr, ds, idx_z):\n",
    "    ref_depth = ds['Z'].isel(Z=idx_z).values\n",
    "    z_arr=ds['Z'].values\n",
    "\n",
    "    # Loop over time\n",
    "    d_vert_slice=[]\n",
    "    for i in range(theta_arr.shape[0]):\n",
    "        ref_temp = ds['mean_temp_profile'].isel(time=i,Z=idx_z).values\n",
    "        diff = np.abs(theta_arr[i] - ref_temp)\n",
    "\n",
    "        z_closest_idx = diff.argmin(axis=0)\n",
    "        z_closest = z_arr[z_closest_idx]  # (time, YC, XC)\n",
    "\n",
    "        # Displacement relative to this reference depth\n",
    "        d_vert_slice.append(np.where(mask[idx_z], z_closest - ref_depth, np.nan))\n",
    "\n",
    "    return d_vert_slice"
   ],
   "id": "b6392dc2854257f",
   "outputs": [],
   "execution_count": null
  },
  {
   "metadata": {},
   "cell_type": "code",
   "source": "theta_arr = ds_to_plot.THETA.values",
   "id": "3cd80f358f822a4b",
   "outputs": [],
   "execution_count": null
  },
  {
   "metadata": {},
   "cell_type": "code",
   "source": [
    "d_vert = []\n",
    "for idx_z in range(ds_to_plot.sizes['Z']):\n",
    "    d_vert.append(compute_iso_displacement_slice(theta_arr, ds_to_plot, idx_z))"
   ],
   "id": "80ff281b151bc0f8",
   "outputs": [],
   "execution_count": null
  },
  {
   "metadata": {},
   "cell_type": "code",
   "source": "test = compute_iso_displacement_slice(theta_arr, ds_to_plot, 80)",
   "id": "4b277cd33cb10b57",
   "outputs": [],
   "execution_count": null
  },
  {
   "metadata": {},
   "cell_type": "code",
   "source": "ds_to_plot['mean_temp_profile'].isel(time=0,Z=80).values",
   "id": "5d8aae9e886c58f8",
   "outputs": [],
   "execution_count": null
  },
  {
   "metadata": {},
   "cell_type": "code",
   "source": [
    "diff = np.abs(theta_arr[0] - 7.26599979)\n",
    "z_closest_idx = diff.argmin(axis=0)"
   ],
   "id": "335f5896165e5a7e",
   "outputs": [],
   "execution_count": null
  },
  {
   "metadata": {},
   "cell_type": "code",
   "source": "z_closest_idx",
   "id": "f15e61ee3161999a",
   "outputs": [],
   "execution_count": null
  },
  {
   "metadata": {},
   "cell_type": "code",
   "source": "v_disp =xr.full_like(ds_to_plot.THETA, fill_value=np.nan)",
   "id": "be3f74fcf81bc127",
   "outputs": [],
   "execution_count": null
  },
  {
   "metadata": {},
   "cell_type": "code",
   "source": "arr_swapped = np.swapaxes(d_vert, 0, 1)",
   "id": "45ba919bafd10873",
   "outputs": [],
   "execution_count": null
  },
  {
   "metadata": {},
   "cell_type": "code",
   "source": "v_disp[:] = arr_swapped",
   "id": "cad5a05c5a3d5831",
   "outputs": [],
   "execution_count": null
  },
  {
   "metadata": {},
   "cell_type": "code",
   "source": "v_disp.to_netcdf(r\"/home/leroquan@eawag.wroot.emp-eaw.ch/work_space/dummy_extended/analysis/vertical_displacement.nc\")",
   "id": "45762b0f5f0ee3a3",
   "outputs": [],
   "execution_count": null
  },
  {
   "metadata": {},
   "cell_type": "code",
   "source": "v_disp.isel(time=-1, Z=80).THETA.plot()",
   "id": "cb416a4f67deb459",
   "outputs": [],
   "execution_count": null
  },
  {
   "metadata": {},
   "cell_type": "markdown",
   "source": "# Compute potential energy",
   "id": "a7c3d9790e0a2914"
  },
  {
   "metadata": {},
   "cell_type": "code",
   "source": "v_disp = xr.open_dataset(r\"/home/leroquan@eawag.wroot.emp-eaw.ch/work_space/dummy_extended/analysis/vertical_displacement.nc\")",
   "id": "3a51def04f1db800",
   "outputs": [],
   "execution_count": null
  },
  {
   "metadata": {},
   "cell_type": "code",
   "source": "v_disp_mean = v_disp.mean(dim=['XC','YC'])",
   "id": "3c0234c88138e598",
   "outputs": [],
   "execution_count": null
  },
  {
   "metadata": {},
   "cell_type": "code",
   "source": "N_interp = N_mean.interp(Z=v_disp_mean['Z'].values)",
   "id": "3614b5f011c4c805",
   "outputs": [],
   "execution_count": null
  },
  {
   "metadata": {},
   "cell_type": "code",
   "source": "v_disp.THETA.isel(time=0, Z=70).plot()",
   "id": "69b34bb51ced418",
   "outputs": [],
   "execution_count": null
  },
  {
   "metadata": {},
   "cell_type": "code",
   "source": "(N_interp * v_disp_mean)",
   "id": "92953636b6609e3b",
   "outputs": [],
   "execution_count": null
  }
 ],
 "metadata": {
  "kernelspec": {
   "display_name": "Python 3",
   "language": "python",
   "name": "python3"
  },
  "language_info": {
   "codemirror_mode": {
    "name": "ipython",
    "version": 2
   },
   "file_extension": ".py",
   "mimetype": "text/x-python",
   "name": "python",
   "nbconvert_exporter": "python",
   "pygments_lexer": "ipython2",
   "version": "2.7.6"
  }
 },
 "nbformat": 4,
 "nbformat_minor": 5
}
