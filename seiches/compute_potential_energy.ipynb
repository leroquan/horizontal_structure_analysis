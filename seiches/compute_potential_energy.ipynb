{
 "cells": [
  {
   "cell_type": "code",
   "id": "initial_id",
   "metadata": {
    "collapsed": true
   },
   "source": [
    "import sys\n",
    "import os\n",
    "from multiprocessing.pool import ExceptionWithTraceback\n",
    "\n",
    "import numpy as np\n",
    "import xarray as xr\n",
    "import matplotlib.pyplot as plt\n",
    "from numpy.f2py.auxfuncs import throw_error\n",
    "\n",
    "sys.path.append('..//')\n",
    "from utils_mitgcm import open_mitgcm_ds_from_config\n",
    "import pylake"
   ],
   "outputs": [],
   "execution_count": null
  },
  {
   "metadata": {
    "collapsed": false,
    "jupyter": {
     "outputs_hidden": false
    }
   },
   "cell_type": "code",
   "source": [
    "model = 'geneva_dummy_extended'\n",
    "mitgcm_config, ds_to_plot = open_mitgcm_ds_from_config('..//config.json', model)"
   ],
   "id": "90e7e676c67344fa",
   "outputs": [],
   "execution_count": null
  },
  {
   "metadata": {},
   "cell_type": "code",
   "source": "output_folder = r'/home/leroquan@eawag.wroot.emp-eaw.ch/work_space/dummy_extended/seiche_analysis/potential_energy'",
   "id": "7c7f6cdbe012c7cb",
   "outputs": [],
   "execution_count": null
  },
  {
   "metadata": {},
   "cell_type": "code",
   "source": [
    "grid_resolution = 200\n",
    "ds_to_plot['YC'] = np.arange(1, len(ds_to_plot['YC'])+1) * grid_resolution - grid_resolution/2\n",
    "ds_to_plot['XC'] = np.arange(1, len(ds_to_plot['XC'])+1) * grid_resolution - grid_resolution/2\n",
    "ds_to_plot['YG'] = np.arange(0, len(ds_to_plot['YG'])) * grid_resolution\n",
    "ds_to_plot['XG'] = np.arange(0, len(ds_to_plot['XG'])) * grid_resolution\n",
    "\n",
    "ds_to_plot['Z'] = -1 * ds_to_plot.Z"
   ],
   "id": "f0266288bb39ce34",
   "outputs": [],
   "execution_count": null
  },
  {
   "metadata": {},
   "cell_type": "code",
   "source": "mask = ds_to_plot.THETA.isel(time=0).values != 0",
   "id": "ddc29c7c6135a447",
   "outputs": [],
   "execution_count": null
  },
  {
   "metadata": {},
   "cell_type": "code",
   "source": [
    "plt.figure(figsize=(10,3))\n",
    "plt.imshow(ds_to_plot.THETA.isel(time=-1,Z=0).where(mask[0], np.nan))\n",
    "plt.gca().invert_yaxis()\n",
    "plt.colorbar()"
   ],
   "id": "8c3b8c22bf26361e",
   "outputs": [],
   "execution_count": null
  },
  {
   "metadata": {},
   "cell_type": "markdown",
   "source": "# Get temperature profile averaged over the entire lake",
   "id": "e74f14cab4f4800"
  },
  {
   "metadata": {},
   "cell_type": "code",
   "source": "ds_to_plot['theta_nan'] = ds_to_plot['THETA'].where(mask, np.nan)",
   "id": "8938c8388a9c951d",
   "outputs": [],
   "execution_count": null
  },
  {
   "metadata": {},
   "cell_type": "code",
   "source": "ds_to_plot['mean_temp_profile'] = ds_to_plot.theta_nan.mean(dim=['XC','YC']).compute()",
   "id": "47f11dbad2e9405c",
   "outputs": [],
   "execution_count": null
  },
  {
   "metadata": {},
   "cell_type": "code",
   "source": "ds_to_plot['mean_temp_profile'].plot()",
   "id": "18de53ccd3e2112",
   "outputs": [],
   "execution_count": null
  },
  {
   "metadata": {},
   "cell_type": "markdown",
   "source": "# Get buoyancy frequency N",
   "id": "545b53c5813d057d"
  },
  {
   "metadata": {},
   "cell_type": "code",
   "source": [
    "def buoyancy_freq(Temp, depth=None, g=9.81):\n",
    "    '''\n",
    "    Description: Calculate the buoyancy frequency (Brunt-Vaisala frequency) for a temperature profile. Copied from PyLake module and adapted to take xarray as input.\n",
    "    https://github.com/eawag-surface-waters-research/PyLake/blob/main/pylake\n",
    "\n",
    "    Parameters\n",
    "    -----------\n",
    "    Temp: array_like\n",
    "        A numeric vector of water temperature in degrees C\n",
    "    depth: array_like\n",
    "        a numeric vector corresponding to the depth (in m) of the Temp measurements\n",
    "    g: scalar, default: 9.81\n",
    "        gravity acceleration (m/s2)\n",
    "\n",
    "    Returns\n",
    "    ----------\n",
    "    n2: xarray with buoyancy frequency in units {sec^-2} and associated average lake depths (can be different from input depths).\n",
    "    '''\n",
    "    rho = pylake.dens0(s=0.2, t=Temp)\n",
    "    numdepth = len(depth)\n",
    "    rho_2 = rho.isel(Z=slice(0,numdepth-1))\n",
    "    drho_dz = rho.diff('Z')/Temp.Z.diff('Z')\n",
    "    rho_2[\"Z\"] = drho_dz.Z\n",
    "    n2 = g/rho_2*drho_dz\n",
    "    n2[\"Z\"] = [(a+b)/2 for a,b in zip(depth, depth[1:])]\n",
    "    n2 = n2.rename({\"Z\":\"avg_depth\"})\n",
    "\n",
    "    return n2"
   ],
   "id": "a427e214d9159c2e",
   "outputs": [],
   "execution_count": null
  },
  {
   "metadata": {},
   "cell_type": "code",
   "source": "xr_N = buoyancy_freq(ds_to_plot.theta_nan, ds_to_plot.Z).compute()",
   "id": "2bfcf1f57a72b833",
   "outputs": [],
   "execution_count": null
  },
  {
   "metadata": {},
   "cell_type": "code",
   "source": [
    "fig,ax = plt.subplots(1,1)\n",
    "xr_N.isel(time=24,XC=150,YC=80).plot()\n",
    "ax.set_yscale('log')"
   ],
   "id": "a69e3ff211ee7420",
   "outputs": [],
   "execution_count": null
  },
  {
   "metadata": {},
   "cell_type": "code",
   "source": "xr_N = xr_N.interp({'avg_depth':ds_to_plot.Z})",
   "id": "a132121897aacd76",
   "outputs": [],
   "execution_count": null
  },
  {
   "metadata": {},
   "cell_type": "code",
   "source": "xr_N.to_netcdf(r'/home/leroquan@eawag.wroot.emp-eaw.ch/work_space/dummy_extended/seiche_analysis/buoyancy_frequency.nc')",
   "id": "b2f757d69fc8fa9e",
   "outputs": [],
   "execution_count": null
  },
  {
   "metadata": {},
   "cell_type": "markdown",
   "source": "# Get vertical displacement",
   "id": "552acb34b8eb2e1f"
  },
  {
   "metadata": {},
   "cell_type": "code",
   "source": [
    "def inverse_interp_1d(T_prof, T_target, Z):\n",
    "    \"\"\"\n",
    "    T_prof: 1D array of temps along Z\n",
    "    T_target: 1D array of temps at which we want to find the depth\n",
    "    Z: 1D array of depths\n",
    "    Returns: 1D array of same shape as T_target with interpolated Z\n",
    "    \"\"\"\n",
    "    out = np.full_like(T_target, np.nan, dtype=float)\n",
    "\n",
    "    # Mask valid (non-nan) values\n",
    "    mask = ~np.isnan(T_prof)\n",
    "    T_valid = T_prof[mask]\n",
    "    Z_valid = Z[mask]\n",
    "\n",
    "    if T_valid.size < 2:\n",
    "        return out\n",
    "\n",
    "    # Use searchsorted to locate bracketing temps\n",
    "    idxs = np.searchsorted(T_valid, T_target)\n",
    "\n",
    "    for j, idx in enumerate(idxs):\n",
    "        if 0 < idx < len(T_valid):\n",
    "            T1, T2 = T_valid[idx - 1], T_valid[idx]\n",
    "            Z1, Z2 = Z_valid[idx - 1], Z_valid[idx]\n",
    "            Tt = T_target[j]\n",
    "            if T2 != T1:\n",
    "                out[j] = Z1 + (Z2 - Z1) * (Tt - T1) / (T2 - T1)\n",
    "\n",
    "    return out"
   ],
   "id": "db0942af1ce3c24b",
   "outputs": [],
   "execution_count": null
  },
  {
   "metadata": {},
   "cell_type": "code",
   "source": [
    "# Ensure Z sorted\n",
    "ds_to_plot = ds_to_plot.sortby(\"Z\", ascending=False)\n",
    "z_profile = ds_to_plot.Z             # (Z)\n",
    "\n",
    "expanded_mean,_ = xr.broadcast(ds_to_plot.mean_temp_profile, ds_to_plot.theta_nan)\n",
    "mean_temperature_profile = expanded_mean.rename({'Z':'Z_temp'})  # (time, Z_temp, XC, YC)\n",
    "\n",
    "temperature_profiles_whole_lake = ds_to_plot.theta_nan.chunk({'time': 1, 'XC':30, 'YC':30})  # (time, Z, XC, YC)\n",
    "\n",
    "z_corresponding = xr.apply_ufunc(\n",
    "    inverse_interp_1d,\n",
    "    temperature_profiles_whole_lake,                # T_prof: (time, Z, XC, YC)\n",
    "    mean_temperature_profile,      # T_target: (time, Z_temp, XC, YC)\n",
    "    z_profile,                   # Z: (Z)\n",
    "    input_core_dims=[[\"Z\"], [\"Z_temp\"], [\"Z\"]],\n",
    "    output_core_dims=[[\"Z_temp\"]],\n",
    "    vectorize=True,\n",
    "    dask=\"parallelized\",\n",
    "    output_dtypes=[float],\n",
    ")\n",
    "z_corresponding = z_corresponding.rename({'Z_temp':'Z'}).compute()"
   ],
   "id": "5c2c50b38aca7691",
   "outputs": [],
   "execution_count": null
  },
  {
   "metadata": {},
   "cell_type": "code",
   "source": [
    "mean_temperature_profile.isel(time=48,XC=150,YC=80).plot()\n",
    "temperature_profiles_whole_lake.isel(time=48,XC=150,YC=80).plot()"
   ],
   "id": "f7bd3c05278d3857",
   "outputs": [],
   "execution_count": null
  },
  {
   "metadata": {},
   "cell_type": "code",
   "source": "vertical_displacement = z_profile - z_corresponding",
   "id": "16c067171ff61808",
   "outputs": [],
   "execution_count": null
  },
  {
   "metadata": {},
   "cell_type": "code",
   "source": "vertical_displacement.to_netcdf(r'/home/leroquan@eawag.wroot.emp-eaw.ch/work_space/dummy_extended/seiche_analysis/vertical_displacement.nc')",
   "id": "83df78845970db20",
   "outputs": [],
   "execution_count": null
  },
  {
   "metadata": {
    "ExecuteTime": {
     "end_time": "2025-09-29T15:46:13.245895Z",
     "start_time": "2025-09-29T15:46:13.151080Z"
    }
   },
   "cell_type": "markdown",
   "source": [
    "vertical_displacement = xr.open_dataset(r'/home/leroquan@eawag.wroot.emp-eaw.ch/work_space/dummy_extended/seiche_analysis/vertical_displacement.nc')\n",
    "vertical_displacement = vertical_displacement.__xarray_dataarray_variable__"
   ],
   "id": "cc0786134add1290"
  },
  {
   "metadata": {},
   "cell_type": "markdown",
   "source": "# Compute potential energy",
   "id": "a7c3d9790e0a2914"
  },
  {
   "metadata": {},
   "cell_type": "code",
   "source": [
    "rho = 1000\n",
    "surface_cell = 200 * 200\n",
    "val = (vertical_displacement ** 2) * xr_N * ds_to_plot.drF"
   ],
   "id": "86e30056f762636b",
   "outputs": [],
   "execution_count": null
  },
  {
   "metadata": {},
   "cell_type": "code",
   "source": "E_pot_profile = rho * surface_cell * val.sum(dim='Z') / 1e6",
   "id": "fcdc5919c2a5dd5a",
   "outputs": [],
   "execution_count": null
  },
  {
   "metadata": {},
   "cell_type": "code",
   "source": "E_pot_profile.to_netcdf(r'/home/leroquan@eawag.wroot.emp-eaw.ch/work_space/dummy_extended/seiche_analysis/potential_energy.nc')",
   "id": "6edd40d22e3c5d25",
   "outputs": [],
   "execution_count": null
  },
  {
   "metadata": {},
   "cell_type": "code",
   "source": [
    "plt_obj = E_pot_profile.isel(time=48).plot(vmin=0, vmax=100)\n",
    "plt_obj.colorbar.set_label('Potential Energy [MJ]')"
   ],
   "id": "b259294bcfad7eba",
   "outputs": [],
   "execution_count": null
  },
  {
   "metadata": {},
   "cell_type": "code",
   "source": [
    "for i in range(25,E_pot_profile.sizes['time']):\n",
    "    plt.close('all')\n",
    "    plt.figure(figsize=(15,7))\n",
    "    plt_obj = E_pot_profile.isel(time=i).plot(vmin=0, vmax=100)\n",
    "    plt_obj.colorbar.set_label('Potential Energy [MJ]')\n",
    "    plt.title(E_pot_profile.time.isel(time=i).values)\n",
    "    plt.savefig(rf'/home/leroquan@eawag.wroot.emp-eaw.ch/work_space/dummy_extended/seiche_analysis/e_pot_map/potential_energy_time{i}.png')"
   ],
   "id": "9a72f4f198a598",
   "outputs": [],
   "execution_count": null
  },
  {
   "metadata": {},
   "cell_type": "code",
   "source": "total_potential_energy = E_pot_profile.sum(['XC','YC'])",
   "id": "ca8868db1a63c1f9",
   "outputs": [],
   "execution_count": null
  },
  {
   "metadata": {},
   "cell_type": "code",
   "source": [
    "fig, ax = plt.subplots(1,1,figsize=(10,5))\n",
    "total_potential_energy.plot()\n",
    "plt.ylabel('Potential Energy [MJ]')\n",
    "plt.xlabel('')\n",
    "fig.savefig(os.path.join(output_folder, \"potential_energy.png\"))"
   ],
   "id": "4a6ec961d48e1dae",
   "outputs": [],
   "execution_count": null
  },
  {
   "metadata": {},
   "cell_type": "code",
   "source": "df_pe = total_potential_energy.to_dataframe(name='pe_mj_seiche')['pe_mj_seiche'].reset_index()",
   "id": "6bd67903d7217b6f",
   "outputs": [],
   "execution_count": null
  },
  {
   "metadata": {},
   "cell_type": "code",
   "source": "df_pe.to_csv(os.path.join(output_folder, \"potential_energy.csv\"))",
   "id": "fc49d1fcf468bc55",
   "outputs": [],
   "execution_count": null
  }
 ],
 "metadata": {
  "kernelspec": {
   "display_name": "Python 3",
   "language": "python",
   "name": "python3"
  },
  "language_info": {
   "codemirror_mode": {
    "name": "ipython",
    "version": 2
   },
   "file_extension": ".py",
   "mimetype": "text/x-python",
   "name": "python",
   "nbconvert_exporter": "python",
   "pygments_lexer": "ipython2",
   "version": "2.7.6"
  }
 },
 "nbformat": 4,
 "nbformat_minor": 5
}
