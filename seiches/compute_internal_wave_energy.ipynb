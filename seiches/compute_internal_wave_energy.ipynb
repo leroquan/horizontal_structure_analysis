{
 "cells": [
  {
   "cell_type": "code",
   "metadata": {},
   "source": [
    "import numpy as np\n",
    "import xarray as xr \n",
    "import pandas as pd\n",
    "import glob \n",
    "\n",
    "import matplotlib.pyplot as plt\n",
    "import matplotlib.dates as mdates\n",
    "from scipy.signal import detrend, windows\n",
    "from scipy.stats.distributions import chi2\n",
    "from scipy.signal import butter, filtfilt, detrend\n",
    "\n",
    "\n",
    "from matplotlib.ticker import LogLocator, MaxNLocator, ScalarFormatter, FuncFormatter\n",
    "\n",
    "import sys\n",
    "sys.path.append('..//')\n",
    "from utils_mitgcm import open_mitgcm_ds_from_config\n",
    "\n",
    "from datetime import datetime"
   ],
   "outputs": [],
   "execution_count": null
  },
  {
   "cell_type": "markdown",
   "metadata": {},
   "source": [
    "# Load data and select ZZ\n",
    "- selected zz and sliced through time"
   ]
  },
  {
   "metadata": {
    "collapsed": false,
    "jupyter": {
     "outputs_hidden": false
    }
   },
   "cell_type": "code",
   "source": [
    "model = 'geneva_dummy_extended'\n",
    "mitgcm_config, ds = open_mitgcm_ds_from_config('..//config.json', model)"
   ],
   "outputs": [],
   "execution_count": null
  },
  {
   "metadata": {},
   "cell_type": "code",
   "source": [
    "grid_resolution = 200\n",
    "ds['YC'] = np.arange(1, len(ds['YC'])+1) * grid_resolution - grid_resolution/2\n",
    "ds['XC'] = np.arange(1, len(ds['XC'])+1) * grid_resolution - grid_resolution/2\n",
    "ds['YG'] = np.arange(0, len(ds['YG'])) * grid_resolution\n",
    "ds['XG'] = np.arange(0, len(ds['XG'])) * grid_resolution"
   ],
   "outputs": [],
   "execution_count": null
  },
  {
   "metadata": {},
   "cell_type": "code",
   "source": "zz = 0",
   "outputs": [],
   "execution_count": null
  },
  {
   "metadata": {},
   "cell_type": "code",
   "source": [
    "u = ds.UVEL.sel(Z=zz,method='nearest')\n",
    "v = ds.VVEL.sel(Z=zz,method='nearest')\n",
    "w = ds.WVEL.sel(Zl=zz,method='nearest')"
   ],
   "outputs": [],
   "execution_count": null
  },
  {
   "cell_type": "code",
   "metadata": {},
   "source": [
    "u.load()\n",
    "v.load()\n",
    "w.load()"
   ],
   "outputs": [],
   "execution_count": null
  },
  {
   "cell_type": "markdown",
   "metadata": {},
   "source": [
    "## Chunking data prior to FFT"
   ]
  },
  {
   "metadata": {
    "ExecuteTime": {
     "end_time": "2025-09-23T12:58:31.470346Z",
     "start_time": "2025-09-23T12:58:29.876334Z"
    }
   },
   "cell_type": "markdown",
   "source": [
    "u = u.chunk({'XG':1,'YC':1, 'time':-1})\n",
    "v = v.chunk({'XC':1,'YG':1, 'time':-1})"
   ]
  },
  {
   "cell_type": "markdown",
   "metadata": {},
   "source": [
    "# Compute freq. spectrum "
   ]
  },
  {
   "cell_type": "markdown",
   "metadata": {},
   "source": "## Function for FFT (Fast Fourier Transform)"
  },
  {
   "cell_type": "code",
   "metadata": {},
   "source": [
    "def compute_mean_fft(data, M):\n",
    "\n",
    "    \"\"\"Computes mean FFT by segmenting the time series.\"\"\"\n",
    "    N = len(data)\n",
    "    p = N // M\n",
    "    if p < 2:\n",
    "        raise ValueError(f\"Segment length (p={p}) is too small for FFT. Choose a smaller M.\")\n",
    "    \n",
    "    data = data[:p * M]\n",
    "    data_segments = data.reshape(M, p)\n",
    "    window = np.hanning(p) * np.ones([M, 1])\n",
    "\n",
    "    segments_demean = np.array([seg - np.nanmean(seg) for seg in data_segments])\n",
    "    segments_demean[np.isnan(segments_demean)] = 0\n",
    "    data_dtrend = detrend(segments_demean, axis=1, type='linear')\n",
    "    fft_segments = np.fft.fft(data_dtrend * window, axis=1)\n",
    "    amp_segments = abs(fft_segments[:, :p // 2] / p) ** 2\n",
    "    amp_segments[:, 1:] *= 2\n",
    "    amp_mean = amp_segments.mean(axis=0)\n",
    "\n",
    "    nu = 2 * M\n",
    "    err_up = nu / chi2.ppf(0.1 / 2, df=nu) * amp_mean\n",
    "    err_low = nu / chi2.ppf(1 - 0.1 / 2, df=nu) * amp_mean\n",
    "\n",
    "    return amp_mean, err_up, err_low\n",
    "\n",
    "\n",
    "def xr_compute_meanfft(data, M):\n",
    "    \"\"\"Parallelized FFT computation for (X, Y) grid along T.\"\"\"\n",
    "    \n",
    "    dt = (data['time'][1] - data['time'][0]).astype('float').values / 1e9\n",
    "    N = len(data['time'].values)\n",
    "    p = N // M\n",
    "    freq = np.fft.fftfreq(p, dt)[:p // 2]\n",
    "    len_freq = len(freq)\n",
    "\n",
    "\n",
    "    amp_mean, err_up, err_low = xr.apply_ufunc(\n",
    "        compute_mean_fft,\n",
    "        data,\n",
    "        M,\n",
    "        input_core_dims=[[\"time\"], []],\n",
    "        output_core_dims=[[\"freq\"], [\"freq\"], [\"freq\"]],\n",
    "        output_sizes={\"freq\": len_freq},\n",
    "        exclude_dims=set((\"time\",)),\n",
    "        vectorize=True,\n",
    "        dask=\"parallelized\",\n",
    "        output_dtypes=[np.float64, np.float64, np.float64],\n",
    "    )\n",
    "\n",
    "\n",
    "    fft_data = xr.Dataset(\n",
    "        {\n",
    "            \"amp_mean\": amp_mean,\n",
    "            \"err_up\": err_up,\n",
    "            \"err_low\": err_low,\n",
    "        },\n",
    "        coords={\"freq\": freq}\n",
    "        )   \n",
    "    \n",
    "   \n",
    "\n",
    "    return fft_data"
   ],
   "outputs": [],
   "execution_count": null
  },
  {
   "cell_type": "code",
   "metadata": {},
   "source": [
    "def compute_fft_period(fft_freq):\n",
    "    # Time period \n",
    "    with np.errstate(divide='ignore', invalid='ignore'):\n",
    "        fft_period = np.where(fft_freq != 0, 1/ fft_freq, np.inf)\n",
    "    \n",
    "    return fft_period"
   ],
   "outputs": [],
   "execution_count": null
  },
  {
   "cell_type": "markdown",
   "metadata": {},
   "source": [
    "## Compute freq. spectrum"
   ]
  },
  {
   "metadata": {},
   "cell_type": "code",
   "source": "v.mean(dim=['XC','YG']).plot()",
   "outputs": [],
   "execution_count": null
  },
  {
   "metadata": {},
   "cell_type": "code",
   "source": "u.mean(dim=['XG','YC']).plot()",
   "outputs": [],
   "execution_count": null
  },
  {
   "metadata": {},
   "cell_type": "code",
   "source": "u.isel()",
   "outputs": [],
   "execution_count": null
  },
  {
   "cell_type": "code",
   "metadata": {},
   "source": [
    "m_seg = 1\n",
    "u_fft = xr_compute_meanfft(u, M=m_seg)\n",
    "v_fft = xr_compute_meanfft(v, M=m_seg)\n",
    "w_fft = xr_compute_meanfft(w, M=m_seg)"
   ],
   "outputs": [],
   "execution_count": null
  },
  {
   "cell_type": "markdown",
   "metadata": {},
   "source": [
    "## Select sub XY for mean freq. Spectrum"
   ]
  },
  {
   "cell_type": "code",
   "metadata": {},
   "source": [
    "xx1 = 0\n",
    "yy1 = 0\n",
    "\n",
    "xcells = 336\n",
    "ycells = 132\n",
    "\n",
    "xx2 = xx1+(200*xcells)\n",
    "yy2 = yy1+(200*ycells)\n",
    "\n",
    "\n",
    "fig, ax = plt.subplots(1, figsize=(15, 8))\n",
    "v.isel(time=24).plot()\n",
    "\n",
    "\n",
    "plt.scatter(xx1,yy1, marker=\".\", color=\"k\")\n",
    "plt.scatter(xx1,yy2, marker = '.', color=\"k\")\n",
    "\n",
    "plt.scatter(xx2,yy1, marker=\".\", color=\"k\")\n",
    "plt.scatter(xx2,yy2, marker = '.', color=\"k\")\n",
    "\n",
    "plt.grid()\n"
   ],
   "outputs": [],
   "execution_count": null
  },
  {
   "cell_type": "code",
   "metadata": {},
   "source": [
    "\n",
    "u_fft_mean = u_fft.sel(XG=slice(xx1,xx2), YC=slice(yy1,yy2)).mean(dim=['XG','YC'])\n",
    "v_fft_mean = v_fft.sel(XC=slice(xx1,xx2), YG=slice(yy1,yy2)).mean(dim=['XC','YG'])\n",
    "w_fft_mean = w_fft.sel(XC=slice(xx1,xx2), YC=slice(yy1,yy2)).mean(dim=['XC','YC'])\n"
   ],
   "outputs": [],
   "execution_count": null
  },
  {
   "cell_type": "markdown",
   "metadata": {},
   "source": [
    "## Plot freq. spectrum"
   ]
  },
  {
   "cell_type": "code",
   "metadata": {},
   "source": [
    "fig, ax = plt.subplots(1, figsize=(15, 6))\n",
    "\n",
    "# Plot the mean amplitude spectrum\n",
    "u_fft_mean.amp_mean.plot(ax=ax)\n",
    "\n",
    "# Add uncertainty shading\n",
    "ax.fill_between(u_fft_mean['freq'],\n",
    "                u_fft_mean.err_low,\n",
    "                u_fft_mean.err_up,\n",
    "                color='gray', alpha=0.5, label='Uncertainty')\n",
    "\n",
    "# Custom formatter for tick labels with 2 significant figures\n",
    "def custom_formatter(x, pos):\n",
    "    return f'{x:.1f}'\n",
    "\n",
    "\n",
    "# Set both axes to log scale\n",
    "ax.set_xscale('log')\n",
    "ax.set_yscale('log')\n",
    "\n",
    "\n",
    "# Grid and labels\n",
    "ax.grid()\n",
    "ax.set_xlabel('Frequency $(s^{-1})$', fontsize=16)\n",
    "ax.set_ylabel('Power Spectrum', fontsize=18)\n",
    "\n",
    "# Increase the number of ticks using LogLocator\n",
    "ax.xaxis.set_major_locator(LogLocator(base=10, subs='auto', numticks=8))\n",
    "\n",
    "# Create a secondary x-axis for period in hours\n",
    "secax = ax.secondary_xaxis('top')\n",
    "secax.set_xscale('log')\n",
    "secax.set_xlabel('Period (hours)', fontsize=16)\n",
    "\n",
    "# Compute FFT period ticks\n",
    "fft_ticks = ax.get_xticks()\n",
    "fft_period = compute_fft_period(fft_ticks)  # In seconds\n",
    "fft_hr = fft_period / 3600\n",
    "\n",
    "\n",
    "secax.set_xticks(fft_ticks)\n",
    "\n",
    "# Set tick labels without decimals and in non-scientific notation form\n",
    "secax.set_xticklabels([f'{int(x):d}' for x in fft_hr], fontsize=16)  # Increase tick label size\n",
    "\n",
    "# Set primary x-axis tick labels with 2 significant figures\n",
    "ax.xaxis.set_major_formatter(FuncFormatter(custom_formatter))\n",
    "\n",
    "# Manually set the offset text for the power limits\n",
    "ax.xaxis.get_offset_text().set_visible(False)  # Hide the default offset text\n",
    "\n",
    "# Compute the offset manually\n",
    "x_min, x_max = ax.get_xlim()\n",
    "power_offset = int(np.floor(np.log10(x_max)))\n",
    "\n",
    "# Set the custom offset text\n",
    "ax.annotate(f'$\\\\times 10^{power_offset}$', xy=(1, 0), xycoords='axes fraction',\n",
    "                fontsize=16, xytext=(-30, -30), textcoords='offset points',\n",
    "                ha='center', va='center')\n",
    "\n",
    "# Adjust tick labels by dividing by the power offset\n",
    "def adjusted_formatter(x, pos):\n",
    "    return f'{x / 10**power_offset:.1f}'\n",
    "\n",
    "ax.xaxis.set_major_formatter(FuncFormatter(adjusted_formatter))\n",
    "\n",
    "\n",
    "# Set axis limits\n",
    "ax.set_ylim(1e-9, None)\n",
    "ax.set_xlim(0.01e-4, None)\n",
    "\n",
    "\n",
    "# Increase the size of the primary and secondary tick labels\n",
    "plt.setp(ax.get_xticklabels(), fontsize=16)\n",
    "plt.setp(ax.get_yticklabels(), fontsize=16)\n",
    "plt.setp(secax.get_xticklabels(), fontsize=16)\n",
    "\n",
    "plt.title('U - Depth:{}m - Segments for FFT:{}'.format(zz,m_seg), fontsize=18)\n"
   ],
   "outputs": [],
   "execution_count": null
  },
  {
   "cell_type": "markdown",
   "metadata": {},
   "source": [
    "# Filtering in Spectral space  "
   ]
  },
  {
   "cell_type": "markdown",
   "metadata": {},
   "source": [
    "## Defining cutoffs \n",
    "- Inertial period is at 16.4 hrs "
   ]
  },
  {
   "cell_type": "code",
   "metadata": {},
   "source": [
    "cutoff1_hr = 82\n",
    "cutoff2_hr = 46\n",
    "\n",
    "cutoff1 = 1/(cutoff1_hr * 3600)\n",
    "cutoff2 = 1/(cutoff2_hr * 3600)\n",
    "\n",
    "fig, ax = plt.subplots(1, figsize=(30, 10))\n",
    "\n",
    "# Plot the mean amplitude spectrum\n",
    "u_fft_mean.amp_mean.plot(ax=ax)\n",
    "\n",
    "# Add uncertainty shading\n",
    "ax.fill_between(u_fft_mean['freq'],\n",
    "                u_fft_mean.err_low,\n",
    "                u_fft_mean.err_up,\n",
    "                color='gray', alpha=0.5, label='Uncertainty')\n",
    "\n",
    "# Custom formatter for tick labels with 2 significant figures\n",
    "def custom_formatter(x, pos):\n",
    "    return f'{x:.1f}'\n",
    "\n",
    "\n",
    "# Set both axes to log scale\n",
    "ax.set_xscale('log')\n",
    "ax.set_yscale('log')\n",
    "\n",
    "\n",
    "# Grid and labels\n",
    "ax.grid()\n",
    "ax.set_xlabel('Frequency $(s^{-1})$', fontsize=16)\n",
    "ax.set_ylabel('Power Spectrum', fontsize=18)\n",
    "\n",
    "# Increase the number of ticks using LogLocator\n",
    "ax.xaxis.set_major_locator(LogLocator(base=10, subs='auto', numticks=8))\n",
    "\n",
    "# Create a secondary x-axis for period in hours\n",
    "secax = ax.secondary_xaxis('top')\n",
    "secax.set_xscale('log')\n",
    "secax.set_xlabel('Period (hours)', fontsize=16)\n",
    "\n",
    "# Compute FFT period ticks\n",
    "fft_ticks = ax.get_xticks()\n",
    "fft_period = compute_fft_period(fft_ticks)  # In seconds\n",
    "fft_hr = fft_period / 3600\n",
    "\n",
    "\n",
    "secax.set_xticks(fft_ticks)\n",
    "\n",
    "# Set tick labels without decimals and in non-scientific notation form\n",
    "secax.set_xticklabels([f'{int(x):d}' for x in fft_hr], fontsize=16)  # Increase tick label size\n",
    "\n",
    "# Set primary x-axis tick labels with 2 significant figures\n",
    "ax.xaxis.set_major_formatter(FuncFormatter(custom_formatter))\n",
    "\n",
    "# Manually set the offset text for the power limits\n",
    "ax.xaxis.get_offset_text().set_visible(False)  # Hide the default offset text\n",
    "\n",
    "# Compute the offset manually\n",
    "x_min, x_max = ax.get_xlim()\n",
    "power_offset = int(np.floor(np.log10(x_max)))\n",
    "\n",
    "# Set the custom offset text\n",
    "ax.annotate(f'$\\\\times 10^{power_offset}$', xy=(1, 0), xycoords='axes fraction',\n",
    "                fontsize=16, xytext=(-30, -30), textcoords='offset points',\n",
    "                ha='center', va='center')\n",
    "\n",
    "# Adjust tick labels by dividing by the power offset\n",
    "def adjusted_formatter(x, pos):\n",
    "    return f'{x / 10**power_offset:.1f}'\n",
    "\n",
    "ax.xaxis.set_major_formatter(FuncFormatter(adjusted_formatter))\n",
    "\n",
    "\n",
    "# Set axis limits\n",
    "ax.set_ylim(1e-12, None)\n",
    "ax.set_xlim(0.01e-4, None)\n",
    "\n",
    "# Add in cutoffs \n",
    "ax.axvline(x = cutoff1, linestyle=\"--\", color=\"k\",label=\"cutoff1\")\n",
    "ax.axvline(x = cutoff2, linestyle=\"--\", color=\"k\",label=\"cutoff2\")\n",
    "ax.legend()\n",
    "\n",
    "\n",
    "\n",
    "# Increase the size of the primary and secondary tick labels\n",
    "plt.setp(ax.get_xticklabels(), fontsize=16)\n",
    "plt.setp(ax.get_yticklabels(), fontsize=16)\n",
    "plt.setp(secax.get_xticklabels(), fontsize=16)\n",
    "\n",
    "plt.title('U - Depth:{}m - Segments for FFT:{}'.format(zz,m_seg), fontsize=18)\n"
   ],
   "outputs": [],
   "execution_count": null
  },
  {
   "cell_type": "markdown",
   "metadata": {},
   "source": [
    "## Low-pass filtering (slow motions)"
   ]
  },
  {
   "cell_type": "markdown",
   "metadata": {},
   "source": [
    "### Function - low pass filter "
   ]
  },
  {
   "cell_type": "code",
   "metadata": {},
   "source": [
    "def lowpass_filter_timeseries(timeseries, dt=1.0, period_cutoff=110.0, order=5):\n",
    "    \"\"\"\n",
    "    Apply low-pass Butterworth filter to a single time series using filtfilt.\n",
    "    \n",
    "    Parameters:\n",
    "    -----------\n",
    "    timeseries : array-like\n",
    "        1D time series data\n",
    "    dt : float, optional\n",
    "        Time step (sampling interval). Default is 1.0\n",
    "    period_cutoff : float, optional\n",
    "        Cutoff period in same units as dt. Default is 110.0\n",
    "    order : int, optional\n",
    "        Filter order. Default is 5\n",
    "        \n",
    "    Returns:\n",
    "    --------\n",
    "    filtered_ts : ndarray\n",
    "        Low-pass filtered time series\n",
    "    \"\"\"\n",
    "    # Remove NaNs with interpolation\n",
    "    if np.any(np.isnan(timeseries)):\n",
    "        valid_mask = ~np.isnan(timeseries)\n",
    "        if np.sum(valid_mask) < len(timeseries) // 2:\n",
    "            return np.full(len(timeseries), np.nan)\n",
    "        timeseries = np.copy(timeseries)\n",
    "        timeseries[~valid_mask] = np.interp(\n",
    "            np.flatnonzero(~valid_mask),\n",
    "            np.flatnonzero(valid_mask),\n",
    "            timeseries[valid_mask]\n",
    "        )\n",
    "\n",
    "    timeseries = detrend(timeseries, type='linear')\n",
    "\n",
    "    # Sampling frequency and cutoff\n",
    "    fs = 1.0 / dt\n",
    "    fc = 1.0 / period_cutoff  # Hz\n",
    "    nyq = fs / 2.0\n",
    "    normal_cutoff = fc / nyq\n",
    "    \n",
    "    if normal_cutoff >= 1.0:\n",
    "        return timeseries\n",
    "\n",
    "    # Design **low-pass** filter\n",
    "    b, a = butter(order, normal_cutoff, btype='low', analog=False)\n",
    "    \n",
    "    # Apply zero-phase filter\n",
    "    filtered_ts = filtfilt(b, a, timeseries)\n",
    "    \n",
    "    return filtered_ts\n",
    "\n",
    "\n",
    "def lowpass_filter_xarray(data, time_dim='time', dt=1.0, period_cutoff=110.0, order=5):\n",
    "    \"\"\"\n",
    "    Apply low-pass Butterworth filter over time dimension for each X,Y location in xarray.\n",
    "    \n",
    "    Parameters:\n",
    "    -----------\n",
    "    data : xarray.DataArray\n",
    "        Input array with dimensions (T, Y, X) or any order containing T\n",
    "    time_dim : str, optional\n",
    "        Name of time dimension. Default is 'T'\n",
    "    dt : float, optional\n",
    "        Time step (sampling interval). Default is 1.0\n",
    "    period_cutoff : float, optional\n",
    "        Cutoff period in same units as dt. Default is 110.0\n",
    "    order : int, optional\n",
    "        Filter order. Default is 5\n",
    "        \n",
    "    Returns:\n",
    "    --------\n",
    "    filtered_result : xarray.DataArray\n",
    "        Low-pass filtered time series with same dimensions as input\n",
    "    \"\"\"\n",
    "    # Apply filter function using apply_ufunc\n",
    "    filtered_result = xr.apply_ufunc(\n",
    "        lowpass_filter_timeseries,\n",
    "        data,\n",
    "        dt,\n",
    "        period_cutoff,\n",
    "        order,\n",
    "        input_core_dims=[[time_dim], [], [], []],\n",
    "        output_core_dims=[[time_dim]],\n",
    "        output_dtypes=[np.float64],\n",
    "        dask='parallelized' if hasattr(data.data, 'chunks') else 'forbidden',\n",
    "        vectorize=True,\n",
    "        kwargs={}\n",
    "    )\n",
    "    \n",
    "    # Preserve coordinates and attributes\n",
    "    filtered_result = filtered_result.assign_coords(data.coords)\n",
    "    \n",
    "    # Add attributes\n",
    "    filtered_result.attrs = data.attrs.copy()\n",
    "    filtered_result.attrs['long_name'] = f'Low-pass filtered {data.attrs.get(\"long_name\", \"data\")}'\n",
    "    filtered_result.attrs['filter_type'] = 'Butterworth low-pass (filtfilt)'\n",
    "    filtered_result.attrs['cutoff_period'] = period_cutoff\n",
    "    filtered_result.attrs['filter_order'] = order\n",
    "    filtered_result.attrs['units'] = data.attrs.get('units', 'units')\n",
    "    \n",
    "    return filtered_result\n"
   ],
   "outputs": [],
   "execution_count": null
  },
  {
   "cell_type": "markdown",
   "metadata": {},
   "source": [
    "### Filtering to low freq. motions"
   ]
  },
  {
   "cell_type": "code",
   "metadata": {},
   "source": [
    "ulow = lowpass_filter_xarray(u, time_dim='time', dt=3600, period_cutoff=(cutoff1_hr*3600), order=5)\n",
    "vlow = lowpass_filter_xarray(v, time_dim='time', dt=3600, period_cutoff=(cutoff1_hr*3600), order=5)\n",
    "wlow = lowpass_filter_xarray(w, time_dim='time', dt=3600, period_cutoff=(cutoff1_hr*3600), order=5)\n"
   ],
   "outputs": [],
   "execution_count": null
  },
  {
   "cell_type": "markdown",
   "metadata": {},
   "source": [
    "### Plotting low freq. motions "
   ]
  },
  {
   "cell_type": "code",
   "metadata": {},
   "source": [
    "i_time_to_plot = 24\n",
    "\n",
    "vmax_low = 7.5e-2\n",
    "ulow.isel(time=i_time_to_plot).plot(vmax=vmax_low)\n",
    "plt.grid()"
   ],
   "outputs": [],
   "execution_count": null
  },
  {
   "cell_type": "markdown",
   "metadata": {},
   "source": [
    "## Bandpass filtering (seiches)"
   ]
  },
  {
   "cell_type": "markdown",
   "metadata": {},
   "source": [
    "### Function - bandpass filter "
   ]
  },
  {
   "cell_type": "code",
   "metadata": {},
   "source": [
    "def bandpass_filter_timeseries(timeseries, dt=1.0, period_cutoff_low=500.0, period_cutoff_high=110.0, order=5):\n",
    "    \"\"\"\n",
    "    Apply band-pass Butterworth filter to a single time series using filtfilt.\n",
    "\n",
    "    Parameters:\n",
    "    -----------\n",
    "    timeseries : array-like\n",
    "        1D time series data\n",
    "    dt : float, optional\n",
    "        Time step (sampling interval). Default is 1.0\n",
    "    period_cutoff_low : float\n",
    "        Lower cutoff period (longer period) in same units as dt.\n",
    "    period_cutoff_high : float\n",
    "        Upper cutoff period (shorter period) in same units as dt.\n",
    "    order : int, optional\n",
    "        Filter order. Default is 5\n",
    "\n",
    "    Returns:\n",
    "    --------\n",
    "    filtered_ts : ndarray\n",
    "        Band-pass filtered time series\n",
    "    \"\"\"\n",
    "    from scipy.signal import butter, filtfilt, detrend\n",
    "    import numpy as np\n",
    "\n",
    "    # Remove NaNs with interpolation\n",
    "    if np.any(np.isnan(timeseries)):\n",
    "        valid_mask = ~np.isnan(timeseries)\n",
    "        if np.sum(valid_mask) < len(timeseries) // 2:\n",
    "            return np.full(len(timeseries), np.nan)\n",
    "        timeseries = np.copy(timeseries)\n",
    "        timeseries[~valid_mask] = np.interp(\n",
    "            np.flatnonzero(~valid_mask),\n",
    "            np.flatnonzero(valid_mask),\n",
    "            timeseries[valid_mask]\n",
    "        )\n",
    "\n",
    "    timeseries = detrend(timeseries, type='linear')\n",
    "\n",
    "    # Sampling frequency\n",
    "    fs = 1.0 / dt\n",
    "    nyq = fs / 2.0\n",
    "\n",
    "    # Convert cutoff periods to frequencies\n",
    "    fc_low = 1.0 / period_cutoff_low\n",
    "    fc_high = 1.0 / period_cutoff_high\n",
    "\n",
    "    # Normalised cutoff frequencies\n",
    "    normal_cutoff = [fc_low / nyq, fc_high / nyq]\n",
    "\n",
    "    if normal_cutoff[1] >= 1.0 or normal_cutoff[0] <= 0.0:\n",
    "        return timeseries\n",
    "\n",
    "    # Design bandpass filter\n",
    "    b, a = butter(order, normal_cutoff, btype='band', analog=False)\n",
    "\n",
    "    # Apply zero-phase filter\n",
    "    filtered_ts = filtfilt(b, a, timeseries)\n",
    "\n",
    "    return filtered_ts\n",
    "\n",
    "\n",
    "\n",
    "def bandpass_filter_xarray(data, time_dim='time', dt=1.0, period_cutoff_low=500.0, period_cutoff_high=110.0, order=5):\n",
    "    \"\"\"\n",
    "    Apply band-pass Butterworth filter over time dimension for each X,Y location in xarray.\n",
    "\n",
    "    Parameters:\n",
    "    -----------\n",
    "    data : xarray.DataArray\n",
    "        Input array with dimensions (T, Y, X) or any order containing T\n",
    "    time_dim : str, optional\n",
    "        Name of time dimension. Default is 'T'\n",
    "    dt : float, optional\n",
    "        Time step (sampling interval). Default is 1.0\n",
    "    period_cutoff_low : float\n",
    "        Lower cutoff period (longer period edge of the band).\n",
    "    period_cutoff_high : float\n",
    "        Upper cutoff period (shorter period edge of the band).\n",
    "    order : int, optional\n",
    "        Filter order. Default is 5\n",
    "\n",
    "    Returns:\n",
    "    --------\n",
    "    filtered_result : xarray.DataArray\n",
    "        Band-pass filtered time series with same dimensions as input\n",
    "    \"\"\"\n",
    "\n",
    "    # Apply filter function using apply_ufunc\n",
    "    filtered_result = xr.apply_ufunc(\n",
    "        bandpass_filter_timeseries,\n",
    "        data,\n",
    "        dt,\n",
    "        period_cutoff_low,\n",
    "        period_cutoff_high,\n",
    "        order,\n",
    "        input_core_dims=[[time_dim], [], [], [], []],\n",
    "        output_core_dims=[[time_dim]],\n",
    "        output_dtypes=[np.float64],\n",
    "        dask='parallelized' if hasattr(data.data, 'chunks') else 'forbidden',\n",
    "        vectorize=True,\n",
    "        kwargs={}\n",
    "    )\n",
    "\n",
    "    # Preserve coordinates and attributes\n",
    "    filtered_result = filtered_result.assign_coords(data.coords)\n",
    "\n",
    "    # Add attributes\n",
    "    filtered_result.attrs = data.attrs.copy()\n",
    "    filtered_result.attrs['long_name'] = f'Band-pass filtered {data.attrs.get(\"long_name\", \"data\")}'\n",
    "    filtered_result.attrs['filter_type'] = 'Butterworth band-pass (filtfilt)'\n",
    "    filtered_result.attrs['cutoff_period_low'] = period_cutoff_low\n",
    "    filtered_result.attrs['cutoff_period_high'] = period_cutoff_high\n",
    "    filtered_result.attrs['filter_order'] = order\n",
    "    filtered_result.attrs['units'] = data.attrs.get('units', 'units')\n",
    "\n",
    "    return filtered_result\n",
    "\n"
   ],
   "outputs": [],
   "execution_count": null
  },
  {
   "cell_type": "markdown",
   "metadata": {},
   "source": [
    "### Filtering to seiches "
   ]
  },
  {
   "cell_type": "code",
   "metadata": {},
   "source": [
    "useiche = bandpass_filter_xarray(u, time_dim='time', dt=3600, period_cutoff_low=(cutoff1_hr*3600), period_cutoff_high=(cutoff2_hr*3600), order=5)\n",
    "vseiche = bandpass_filter_xarray(v, time_dim='time', dt=3600, period_cutoff_low=(cutoff1_hr*3600), period_cutoff_high=(cutoff2_hr*3600), order=5)\n",
    "wseiche = bandpass_filter_xarray(w, time_dim='time', dt=3600, period_cutoff_low=(cutoff1_hr*3600), period_cutoff_high=(cutoff2_hr*3600), order=5)\n"
   ],
   "outputs": [],
   "execution_count": null
  },
  {
   "cell_type": "markdown",
   "metadata": {},
   "source": [
    "### Plotting seiches "
   ]
  },
  {
   "cell_type": "code",
   "metadata": {},
   "source": [
    "i_time_to_plot += 1\n",
    "print(i_time_to_plot)\n",
    "vmax_seiche = 7.5e-2\n",
    "vseiche.isel(time=i_time_to_plot).plot(vmax=vmax_seiche)\n",
    "plt.grid()"
   ],
   "outputs": [],
   "execution_count": null
  },
  {
   "cell_type": "markdown",
   "metadata": {},
   "source": [
    "## High-pass filtering (high frq. waves)"
   ]
  },
  {
   "cell_type": "markdown",
   "metadata": {},
   "source": [
    "### Function - high pass filter"
   ]
  },
  {
   "cell_type": "code",
   "metadata": {},
   "source": [
    "def highpass_filter_timeseries(timeseries, dt=1.0, period_cutoff=110.0, order=5):\n",
    "    \"\"\"\n",
    "    Apply high-pass Butterworth filter to a single time series using filtfilt.\n",
    "    \n",
    "    Parameters:\n",
    "    -----------\n",
    "    timeseries : array-like\n",
    "        1D time series data\n",
    "    dt : float, optional\n",
    "        Time step (sampling interval). Default is 1.0\n",
    "    period_cutoff : float, optional\n",
    "        Cutoff period in same units as dt. Default is 110.0\n",
    "    order : int, optional\n",
    "        Filter order. Default is 5\n",
    "        \n",
    "    Returns:\n",
    "    --------\n",
    "    filtered_ts : ndarray\n",
    "        High-pass filtered time series\n",
    "    \"\"\"\n",
    "    # Remove NaNs with interpolation\n",
    "    if np.any(np.isnan(timeseries)):\n",
    "        valid_mask = ~np.isnan(timeseries)\n",
    "        if np.sum(valid_mask) < len(timeseries) // 2:\n",
    "            return np.full(len(timeseries), np.nan)\n",
    "        timeseries = np.copy(timeseries)\n",
    "        timeseries[~valid_mask] = np.interp(\n",
    "            np.flatnonzero(~valid_mask),\n",
    "            np.flatnonzero(valid_mask),\n",
    "            timeseries[valid_mask]\n",
    "        )\n",
    "\n",
    "    timeseries = detrend(timeseries, type='linear')\n",
    "\n",
    "    # Sampling frequency and cutoff\n",
    "    fs = 1.0 / dt\n",
    "    fc = 1.0 / period_cutoff  # Hz\n",
    "    nyq = fs / 2.0\n",
    "    normal_cutoff = fc / nyq\n",
    "    \n",
    "    if normal_cutoff >= 1.0:\n",
    "        return timeseries\n",
    "    \n",
    "    # Design filter\n",
    "    b, a = butter(order, normal_cutoff, btype='high', analog=False)\n",
    "    \n",
    "    # Apply zero-phase filter\n",
    "    filtered_ts = filtfilt(b, a, timeseries)\n",
    "    \n",
    "    return filtered_ts\n",
    "\n",
    "def highpass_filter_xarray(data, time_dim='T', dt=1.0, period_cutoff=110.0, order=5):\n",
    "    \"\"\"\n",
    "    Apply high-pass Butterworth filter over time dimension for each X,Y location in xarray.\n",
    "    \n",
    "    Parameters:\n",
    "    -----------\n",
    "    data : xarray.DataArray\n",
    "        Input array with dimensions (T, Y, X) or any order containing T\n",
    "    time_dim : str, optional\n",
    "        Name of time dimension. Default is 'T'\n",
    "    dt : float, optional\n",
    "        Time step (sampling interval). Default is 1.0\n",
    "    period_cutoff : float, optional\n",
    "        Cutoff period in same units as dt. Default is 110.0\n",
    "    order : int, optional\n",
    "        Filter order. Default is 5\n",
    "        \n",
    "    Returns:\n",
    "    --------\n",
    "    filtered_result : xarray.DataArray\n",
    "        High-pass filtered time series with same dimensions as input\n",
    "    \"\"\"\n",
    "    # Apply filter function using apply_ufunc\n",
    "    filtered_result = xr.apply_ufunc(\n",
    "        highpass_filter_timeseries,\n",
    "        data,\n",
    "        dt,\n",
    "        period_cutoff,\n",
    "        order,\n",
    "        input_core_dims=[[time_dim], [], [], []], # Time dimension is core for first input\n",
    "        output_core_dims=[[time_dim]], # Output has same time dimension\n",
    "        output_dtypes=[np.float64],\n",
    "        dask='parallelized' if hasattr(data.data, 'chunks') else 'forbidden',\n",
    "        vectorize=True, # Vectorize over remaining dimensions\n",
    "        kwargs={}\n",
    "    )\n",
    "    \n",
    "    # Preserve original coordinates and attributes\n",
    "    filtered_result = filtered_result.assign_coords(data.coords)\n",
    "    \n",
    "    # Add attributes\n",
    "    filtered_result.attrs = data.attrs.copy()\n",
    "    filtered_result.attrs['long_name'] = f'High-pass filtered {data.attrs.get(\"long_name\", \"data\")}'\n",
    "    filtered_result.attrs['filter_type'] = 'Butterworth high-pass (filtfilt)'\n",
    "    filtered_result.attrs['cutoff_period'] = period_cutoff\n",
    "    filtered_result.attrs['filter_order'] = order\n",
    "    filtered_result.attrs['units'] = data.attrs.get('units', 'units')\n",
    "    \n",
    "    return filtered_result\n",
    "\n",
    "\n"
   ],
   "outputs": [],
   "execution_count": null
  },
  {
   "cell_type": "markdown",
   "metadata": {},
   "source": [
    "### Filtering to high freq. waves "
   ]
  },
  {
   "cell_type": "code",
   "metadata": {},
   "source": [
    "uhigh = highpass_filter_xarray(u, time_dim='time', dt=3600, period_cutoff=(cutoff2_hr*3600), order=5)\n",
    "vhigh = highpass_filter_xarray(v, time_dim='time', dt=3600, period_cutoff=(cutoff2_hr*3600), order=5)\n",
    "whigh = highpass_filter_xarray(w, time_dim='time', dt=3600, period_cutoff=(cutoff2_hr*3600), order=5)\n"
   ],
   "outputs": [],
   "execution_count": null
  },
  {
   "cell_type": "markdown",
   "metadata": {},
   "source": [
    "### Plot high freq. internal waves"
   ]
  },
  {
   "cell_type": "code",
   "metadata": {},
   "source": [
    "vmax_high = 7.5e-3\n",
    "vhigh.isel(time=i_time_to_plot).plot(vmax=vmax_high)\n",
    "plt.grid()"
   ],
   "outputs": [],
   "execution_count": null
  },
  {
   "cell_type": "markdown",
   "metadata": {},
   "source": "## Comparing time series"
  },
  {
   "cell_type": "code",
   "metadata": {},
   "source": [
    "xx = 40000; yy = 20000\n",
    "\n",
    "fig, ax = plt.subplots(2,1, figsize=(18, 8))\n",
    "\n",
    "# upper plot \n",
    "ulow.sel(XG=xx, YC=yy, method=\"nearest\").plot(ax=ax[0], label=\"low freq.\")\n",
    "useiche.sel(XG=xx, YC=yy, method=\"nearest\").plot(ax=ax[0], label=\"seiche\")\n",
    "uhigh.sel(XG=xx, YC=yy, method=\"nearest\").plot(ax=ax[0], label=\"high freq.\")\n",
    "\n",
    "# bottom plot\n",
    "u.sel(XG=xx, YC=yy, method=\"nearest\").plot(ax=ax[1], label=\"Original\")\n",
    "(ulow + useiche + uhigh).sel(XG=xx, YC=yy, method=\"nearest\").plot(ax=ax[1], label=\"low freq + seiche + high freq\")\n",
    "\n",
    "for ax in (ax[0], ax[1]):\n",
    "    ax.grid()\n",
    "    ax.set_xlabel('')\n",
    "    ax.legend(loc='upper right')\n",
    "    ax.set_ylabel('U (m/s)')\n",
    "\n"
   ],
   "outputs": [],
   "execution_count": null
  },
  {
   "metadata": {},
   "cell_type": "code",
   "source": [
    "xx = 40000; yy = 15000\n",
    "\n",
    "fig, ax = plt.subplots(2,1, figsize=(18, 8))\n",
    "\n",
    "# upper plot\n",
    "vlow.sel(XC=xx, YG=yy, method=\"nearest\").plot(ax=ax[0], label=\"low freq.\")\n",
    "vseiche.sel(XC=xx, YG=yy, method=\"nearest\").plot(ax=ax[0], label=\"seiche\")\n",
    "vhigh.sel(XC=xx, YG=yy, method=\"nearest\").plot(ax=ax[0], label=\"high freq.\")\n",
    "\n",
    "# bottom plot\n",
    "v.sel(XC=xx, YG=yy, method=\"nearest\").plot(ax=ax[1], label=\"Original\")\n",
    "(vlow + vseiche + vhigh).sel(XC=xx, YG=yy, method=\"nearest\").plot(ax=ax[1], label=\"low freq + seiche + high freq\")\n",
    "\n",
    "for ax in (ax[0], ax[1]):\n",
    "    ax.grid()\n",
    "    ax.set_xlabel('')\n",
    "    ax.legend(loc='upper right')\n",
    "    ax.set_ylabel('V (m/s)')\n",
    "\n"
   ],
   "outputs": [],
   "execution_count": null
  },
  {
   "metadata": {},
   "cell_type": "code",
   "source": [
    "xx = 40000; yy = 15000\n",
    "\n",
    "fig, ax = plt.subplots(2,1, figsize=(18, 8))\n",
    "\n",
    "# upper plot\n",
    "wlow.sel(XC=xx, YC=yy, method=\"nearest\").plot(ax=ax[0], label=\"low freq.\")\n",
    "wseiche.sel(XC=xx, YC=yy, method=\"nearest\").plot(ax=ax[0], label=\"seiche\")\n",
    "whigh.sel(XC=xx, YC=yy, method=\"nearest\").plot(ax=ax[0], label=\"high freq.\")\n",
    "\n",
    "# bottom plot\n",
    "w.sel(XC=xx, YC=yy, method=\"nearest\").plot(ax=ax[1], label=\"Original\")\n",
    "(wlow + wseiche + whigh).sel(XC=xx, YC=yy, method=\"nearest\").plot(ax=ax[1], label=\"low freq + seiche + high freq\")\n",
    "\n",
    "for ax in (ax[0], ax[1]):\n",
    "    ax.grid()\n",
    "    ax.set_xlabel('')\n",
    "    ax.legend(loc='upper right')\n",
    "    ax.set_ylabel('W (m/s)')\n",
    "\n"
   ],
   "outputs": [],
   "execution_count": null
  },
  {
   "metadata": {},
   "cell_type": "code",
   "source": [
    "useiche.to_netcdf(r\"/home/leroquan@eawag.wroot.emp-eaw.ch/work_space/dummy_extended/analysis/u_surface_filtered_46-82h.nc\")\n",
    "vseiche.to_netcdf(r\"/home/leroquan@eawag.wroot.emp-eaw.ch/work_space/dummy_extended/analysis/v_surface_filtered_46-82h.nc\")"
   ],
   "outputs": [],
   "execution_count": null
  },
  {
   "metadata": {},
   "cell_type": "code",
   "source": "wseiche.to_netcdf(r\"/home/leroquan@eawag.wroot.emp-eaw.ch/work_space/dummy_extended/analysis/w_surface_filtered_46-82h.nc\")",
   "outputs": [],
   "execution_count": null
  },
  {
   "metadata": {},
   "cell_type": "markdown",
   "source": "# Energy analysis"
  },
  {
   "metadata": {
    "ExecuteTime": {
     "end_time": "2025-09-23T18:16:13.382128100Z",
     "start_time": "2025-09-23T17:16:19.407511Z"
    }
   },
   "cell_type": "markdown",
   "source": [
    "useiche = xr.open_dataset(r\"/home/leroquan@eawag.wroot.emp-eaw.ch/work_space/dummy_extended/analysis/u_surface_filtered_46-82h.nc\")\n",
    "vseiche = xr.open_dataset(r\"/home/leroquan@eawag.wroot.emp-eaw.ch/work_space/dummy_extended/analysis/v_surface_filtered_46-82h.nc\")"
   ]
  },
  {
   "metadata": {},
   "cell_type": "code",
   "source": [
    "aligned_useiche = useiche.rename({'XG':'XC'})\n",
    "aligned_useiche['XC'] = wseiche['XC']\n",
    "\n",
    "aligned_vseiche = vseiche.rename({'YG':'YC'})\n",
    "aligned_vseiche['YC'] = wseiche['YC']\n",
    "\n",
    "aligned_wseiche = wseiche.rename({'Zl':'Z'})\n",
    "aligned_wseiche['Z'] = useiche['Z']"
   ],
   "outputs": [],
   "execution_count": null
  },
  {
   "metadata": {},
   "cell_type": "code",
   "source": [
    "def compute_ke_snapshot(uvel, vvel, wvel, dx, dy, dz, rho=1000.0):\n",
    "    ke = 0.5 * rho * (uvel ** 2 + vvel ** 2 + wvel ** 2) * dx * dy * dz  # This gives J per cell\n",
    "\n",
    "    return ke / 1e6  # Convert to MJ"
   ],
   "outputs": [],
   "execution_count": null
  },
  {
   "metadata": {},
   "cell_type": "code",
   "source": "ke_mj_seiche = compute_ke_snapshot(aligned_useiche, aligned_vseiche, aligned_wseiche, 200, 200, ds.drF.isel(Z=zz).values)",
   "outputs": [],
   "execution_count": null
  },
  {
   "metadata": {},
   "cell_type": "code",
   "source": "ke_mj_seiche.isel(time=-1).plot()",
   "outputs": [],
   "execution_count": null
  },
  {
   "metadata": {},
   "cell_type": "code",
   "source": "ke_mj_seiche.sum(dim=['XC','YC']).plot()",
   "outputs": [],
   "execution_count": null
  },
  {
   "metadata": {},
   "cell_type": "code",
   "source": "df_ke = ke_mj_seiche.sum(dim=['XC','YC']).to_dataframe(name='ke_mj_seiche')['ke_mj_seiche'].reset_index()",
   "outputs": [],
   "execution_count": null
  },
  {
   "metadata": {},
   "cell_type": "code",
   "source": "df_ke.to_csv(r\"/home/leroquan@eawag.wroot.emp-eaw.ch/work_space/dummy_extended/analysis/ke_surface_seiche.csv\")",
   "outputs": [],
   "execution_count": null
  },
  {
   "metadata": {},
   "cell_type": "code",
   "source": "",
   "outputs": [],
   "execution_count": null
  }
 ],
 "metadata": {
  "kernelspec": {
   "display_name": "mitgcm_venv",
   "language": "python",
   "name": "python3"
  },
  "language_info": {
   "codemirror_mode": {
    "name": "ipython",
    "version": 3
   },
   "file_extension": ".py",
   "mimetype": "text/x-python",
   "name": "python",
   "nbconvert_exporter": "python",
   "pygments_lexer": "ipython3",
   "version": "3.9.6"
  }
 },
 "nbformat": 4,
 "nbformat_minor": 2
}
