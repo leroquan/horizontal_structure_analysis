{
 "cells": [
  {
   "cell_type": "code",
   "id": "initial_id",
   "metadata": {
    "collapsed": true
   },
   "source": [
    "import pandas as pd\n",
    "import os\n",
    "import numpy as np\n",
    "import matplotlib.pyplot as plt"
   ],
   "outputs": [],
   "execution_count": null
  },
  {
   "metadata": {},
   "cell_type": "code",
   "source": "output_folder = r'/home/leroquan@eawag.wroot.emp-eaw.ch/work_space/dummy_extended/energy_budget'",
   "id": "e4f132d3042c405f",
   "outputs": [],
   "execution_count": null
  },
  {
   "metadata": {},
   "cell_type": "code",
   "source": "total_ke = pd.read_csv(os.path.join(output_folder, \"ke_whole_lake.csv\"))",
   "id": "5262a0bd7283bb61",
   "outputs": [],
   "execution_count": null
  },
  {
   "metadata": {},
   "cell_type": "code",
   "source": "eddy_ke = pd.read_csv(os.path.join(output_folder, \"ke_eddy.csv\"))",
   "id": "bd0d4bb3cca7d3d6",
   "outputs": [],
   "execution_count": null
  },
  {
   "metadata": {},
   "cell_type": "code",
   "source": "seiche_pe = pd.read_csv(os.path.join(output_folder, \"potential_energy.csv\"))",
   "id": "ba4c4ab670ed0784",
   "outputs": [],
   "execution_count": null
  },
  {
   "metadata": {},
   "cell_type": "code",
   "source": [
    "total_ke['date'] = pd.to_datetime(total_ke['time'])\n",
    "eddy_ke['date'] = pd.to_datetime(eddy_ke['date'])\n",
    "seiche_pe['date'] = pd.to_datetime(seiche_pe['time'])"
   ],
   "id": "e723b1ffca5b190b",
   "outputs": [],
   "execution_count": null
  },
  {
   "metadata": {},
   "cell_type": "code",
   "source": [
    "total_ke = total_ke.set_index('date')['ke_mj_total']\n",
    "eddy_ke = eddy_ke.set_index('date')['kinetic_energy_eddy_[MJ]']\n",
    "seiche_pe = seiche_pe.set_index('date')['pe_mj_seiche']"
   ],
   "id": "5a85d989881bfe2",
   "outputs": [],
   "execution_count": null
  },
  {
   "metadata": {},
   "cell_type": "code",
   "source": [
    "plt.figure(figsize=(10,5))\n",
    "total_ke.plot(label = 'Kinetic energy - Total')\n",
    "eddy_ke.plot(label = 'Kinetic energy - Eddy')\n",
    "seiche_pe.plot(label = 'Potential energy - Seiche')\n",
    "(total_ke+seiche_pe).plot(label = 'PE + KE')\n",
    "plt.title('Kinetic energy budget')\n",
    "plt.ylabel('Kinetic energy [MJ]')\n",
    "plt.xlabel('')\n",
    "plt.xticks(rotation=10)\n",
    "plt.legend()\n",
    "#plt.savefig(r'D:\\04-Geneva_dummy\\03_24h-wind_extended\\energy_analysis\\surface\\budget.png')"
   ],
   "id": "4168b01deb6d6883",
   "outputs": [],
   "execution_count": null
  },
  {
   "metadata": {},
   "cell_type": "code",
   "source": [
    "plt.figure(figsize=(10,5))\n",
    "(100*eddy_ke / total_ke).plot(label = 'Eddy')\n",
    "(100*seiche_pe / total_ke).plot(label = 'Seiche')\n",
    "plt.title('Fraction energy budget')\n",
    "plt.ylabel('Fraction [%]')\n",
    "plt.xlabel('')\n",
    "plt.xticks(rotation=10)\n",
    "plt.legend()\n",
    "#plt.savefig(r'D:\\04-Geneva_dummy\\03_24h-wind_extended\\energy_analysis\\surface\\fraction.png')"
   ],
   "id": "8458fe398c8afee7",
   "outputs": [],
   "execution_count": null
  },
  {
   "metadata": {},
   "cell_type": "code",
   "source": "",
   "id": "50323e7b26788a2b",
   "outputs": [],
   "execution_count": null
  }
 ],
 "metadata": {
  "kernelspec": {
   "display_name": "Python 3",
   "language": "python",
   "name": "python3"
  },
  "language_info": {
   "codemirror_mode": {
    "name": "ipython",
    "version": 2
   },
   "file_extension": ".py",
   "mimetype": "text/x-python",
   "name": "python",
   "nbconvert_exporter": "python",
   "pygments_lexer": "ipython2",
   "version": "2.7.6"
  }
 },
 "nbformat": 4,
 "nbformat_minor": 5
}
