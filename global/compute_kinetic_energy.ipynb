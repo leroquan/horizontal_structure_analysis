{
 "cells": [
  {
   "cell_type": "code",
   "id": "initial_id",
   "metadata": {
    "collapsed": true
   },
   "source": [
    "import sys\n",
    "import os\n",
    "import numpy as np\n",
    "import matplotlib.pyplot as plt\n",
    "import xarray as xr\n",
    "\n",
    "sys.path.append('..//')\n",
    "from utils_mitgcm import open_mitgcm_ds_from_config\n",
    "from utils_energy_analysis import *"
   ],
   "outputs": [],
   "execution_count": null
  },
  {
   "metadata": {
    "collapsed": false,
    "jupyter": {
     "outputs_hidden": false
    }
   },
   "cell_type": "code",
   "source": [
    "model = 'geneva_dummy_extended'\n",
    "mitgcm_config, ds = open_mitgcm_ds_from_config('..//config.json', model)"
   ],
   "id": "14258b5987dec81a",
   "outputs": [],
   "execution_count": null
  },
  {
   "metadata": {},
   "cell_type": "code",
   "source": "output_folder = r'/home/leroquan@eawag.wroot.emp-eaw.ch/work_space/dummy_extended/energy_budget'",
   "id": "ed80cbb3d82c9b11",
   "outputs": [],
   "execution_count": null
  },
  {
   "metadata": {},
   "cell_type": "code",
   "source": [
    "grid_resolution = 200\n",
    "ds['YC'] = np.arange(1, len(ds['YC']) + 1) * grid_resolution - grid_resolution / 2\n",
    "ds['XC'] = np.arange(1, len(ds['XC']) + 1) * grid_resolution - grid_resolution / 2\n",
    "ds['YG'] = np.arange(0, len(ds['YG'])) * grid_resolution\n",
    "ds['XG'] = np.arange(0, len(ds['XG'])) * grid_resolution"
   ],
   "id": "a704316a79b7df51",
   "outputs": [],
   "execution_count": null
  },
  {
   "metadata": {
    "collapsed": false,
    "jupyter": {
     "outputs_hidden": false
    }
   },
   "cell_type": "code",
   "source": [
    "%matplotlib inline\n",
    "t=-1\n",
    "plt.close('all')\n",
    "plt.figure(figsize=(15,7))\n",
    "ds_sel = ds['THETA'].isel(Z=0, time=t)\n",
    "ds_sel.where(ds_sel != 0, np.nan).plot()\n",
    "plt.title(ds_sel.time.values)\n",
    "#plt.savefig(r\"/home/leroquan@eawag.wroot.emp-eaw.ch/work_space/dummy_extended/figures/transect_location.png\")\n",
    "plt.show()"
   ],
   "id": "2fbaa63c0747d2f8",
   "outputs": [],
   "execution_count": null
  },
  {
   "metadata": {},
   "cell_type": "code",
   "source": [
    "aligned_u = ds.UVEL.rename({'XG':'XC'})\n",
    "aligned_u['XC'] = ds['XC']\n",
    "\n",
    "aligned_v = ds.VVEL.rename({'YG':'YC'})\n",
    "aligned_v['YC'] = ds['YC']\n",
    "\n",
    "aligned_w = ds.WVEL.rename({'Zl':'Z'})\n",
    "aligned_w['Z'] = ds['Z']"
   ],
   "id": "1655403e53f7583a",
   "outputs": [],
   "execution_count": null
  },
  {
   "metadata": {},
   "cell_type": "markdown",
   "source": "# KE whole lake",
   "id": "3723e336a427b9c8"
  },
  {
   "metadata": {},
   "cell_type": "code",
   "source": [
    "ke_tot = compute_ke(\n",
    "    aligned_u,\n",
    "    aligned_v,\n",
    "    aligned_w,\n",
    "    200,\n",
    "    200,\n",
    "    ds.drF)"
   ],
   "id": "ab5eeb3212c3b8e4",
   "outputs": [],
   "execution_count": null
  },
  {
   "metadata": {},
   "cell_type": "code",
   "source": "ke_tot.sum(dim=['XC','YC','Z']).plot()",
   "id": "27d7d25e6e82d95",
   "outputs": [],
   "execution_count": null
  },
  {
   "metadata": {
    "ExecuteTime": {
     "end_time": "2025-09-30T13:34:14.667870Z",
     "start_time": "2025-09-30T13:33:53.642194Z"
    }
   },
   "cell_type": "markdown",
   "source": "df_ke_tot = ke_tot.sum(dim=['XC','YC','Z']).to_dataframe(name='ke_mj_total')['ke_mj_total'].reset_index()",
   "id": "33a5eabf69f35f0a"
  },
  {
   "metadata": {
    "ExecuteTime": {
     "end_time": "2025-09-30T13:35:30.458755Z",
     "start_time": "2025-09-30T13:35:30.426030Z"
    }
   },
   "cell_type": "markdown",
   "source": "df_ke_tot.to_csv(os.path.join(output_folder, \"ke_whole_lake.csv\"))",
   "id": "3cdda30ae6b26ce"
  },
  {
   "metadata": {},
   "cell_type": "markdown",
   "source": "# KE surface",
   "id": "935755834b0b2cc1"
  },
  {
   "metadata": {},
   "cell_type": "code",
   "source": "ke_surf = compute_ke(aligned_u.isel(Z=0), aligned_v.isel(Z=0), aligned_w.isel(Z=0), 200, 200, 0.5)",
   "id": "2c3bb55f22e9be55",
   "outputs": [],
   "execution_count": null
  },
  {
   "metadata": {},
   "cell_type": "code",
   "source": [
    "ke_surf.isel(time=-1).plot()\n",
    "plt.hlines(11000,0,70000,'red')"
   ],
   "id": "fd166360e9b9665e",
   "outputs": [],
   "execution_count": null
  },
  {
   "metadata": {},
   "cell_type": "code",
   "source": "ke_surf.isel(time=-1).sel(YC=11000, method='nearest').plot()",
   "id": "91bda1d4b0340b6e",
   "outputs": [],
   "execution_count": null
  },
  {
   "metadata": {
    "ExecuteTime": {
     "end_time": "2025-09-25T11:16:53.657837Z",
     "start_time": "2025-09-25T11:14:42.896465Z"
    }
   },
   "cell_type": "markdown",
   "source": [
    "for i in range(ke_surf.sizes['time']):\n",
    "    plt.close('all')\n",
    "    plt.figure(figsize=(15,7))\n",
    "    ke_surf.isel(time=i).plot(vmax=1)\n",
    "    plt.title(ke_surf.time.isel(time=i).values)\n",
    "    plt.savefig(rf\"/home/leroquan@eawag.wroot.emp-eaw.ch/work_space/dummy_extended/seiche_analysis/map_total_ke_surface/ke_surface_time{i}.png\")"
   ],
   "id": "cabc2ffa622dd223"
  },
  {
   "metadata": {},
   "cell_type": "code",
   "source": "ke_surf.sum(dim=['XC','YC']).plot()",
   "id": "f9591004410bb1e8",
   "outputs": [],
   "execution_count": null
  },
  {
   "metadata": {},
   "cell_type": "code",
   "source": "total_ke_surf = ke_surf.sum(dim=['XC','YC'])",
   "id": "5de66d22bb6b0873",
   "outputs": [],
   "execution_count": null
  },
  {
   "metadata": {},
   "cell_type": "markdown",
   "source": "# Spectral analysis of total KE",
   "id": "c0432829e3a586af"
  },
  {
   "metadata": {},
   "cell_type": "code",
   "source": "from utils_signal_processing import *",
   "id": "16a43a3712a4d933",
   "outputs": [],
   "execution_count": null
  },
  {
   "metadata": {},
   "cell_type": "code",
   "source": "output_folder = r\"/home/leroquan@eawag.wroot.emp-eaw.ch/work_space/dummy_extended/seiche_analysis/ke_analysis\"",
   "id": "4b745f74e0bb1da5",
   "outputs": [],
   "execution_count": null
  },
  {
   "metadata": {},
   "cell_type": "code",
   "source": [
    "xc = 280\n",
    "yc = 40\n",
    "point_ke_surf = ke_surf.isel(XC=xc,YC=yc)"
   ],
   "id": "c366c05d4bd42686",
   "outputs": [],
   "execution_count": null
  },
  {
   "metadata": {},
   "cell_type": "code",
   "source": [
    "point_ke_surf.plot()\n",
    "plt.title(f'XC={xc}, YC={yc}')\n",
    "plt.savefig(os.path.join(output_folder,f'timeserie_XC={xc}_YC={yc}.png'))"
   ],
   "id": "cb4fbb22bad21204",
   "outputs": [],
   "execution_count": null
  },
  {
   "metadata": {},
   "cell_type": "code",
   "source": [
    "ke_surf.isel(time=24).plot()\n",
    "plt.scatter(point_ke_surf.XC.values,point_ke_surf.YC.values, c='red')\n",
    "plt.savefig(os.path.join(output_folder,f'point_XC={xc}_YC={yc}.png'))"
   ],
   "id": "8fac298cd393aa61",
   "outputs": [],
   "execution_count": null
  },
  {
   "metadata": {},
   "cell_type": "code",
   "source": "ke_fft = xr_compute_meanfft(point_ke_surf.load(), M=1).compute()",
   "id": "db6257c59a8b18fc",
   "outputs": [],
   "execution_count": null
  },
  {
   "metadata": {},
   "cell_type": "code",
   "source": [
    "cutoff1_hr = 45\n",
    "cutoff2_hr = 20\n",
    "\n",
    "cutoff1 = 1/(cutoff1_hr * 3600)\n",
    "cutoff2 = 1/(cutoff2_hr * 3600)\n",
    "\n",
    "fig,ax = plot_freq_spectrum(ke_fft, 'U', depth=0, m_segm=1, y_lim_min=1e-9, x_lim_min=0.01e-4, fontsize=10)\n",
    "fig.savefig(os.path.join(output_folder,f'spectrum_XC={xc}_YC={yc}.png'))\n",
    "#ax.axvline(x = cutoff1, linestyle=\"--\", color=\"k\",label=\"cutoff1\")\n",
    "#ax.axvline(x = cutoff2, linestyle=\"--\", color=\"k\",label=\"cutoff2\")"
   ],
   "id": "8108cb4a6efffcab",
   "outputs": [],
   "execution_count": null
  },
  {
   "metadata": {},
   "cell_type": "code",
   "source": "ke_filtered = filter_signal_xarray(ke_tot, btype='bandpass', time_dim='time', dt=3600, period_cutoff_low=(cutoff1_hr*3600), period_cutoff_high=(cutoff2_hr*3600), order=5)",
   "id": "afb1c80035b971df",
   "outputs": [],
   "execution_count": null
  },
  {
   "metadata": {},
   "cell_type": "code",
   "source": [
    "ke_filtered.plot()\n",
    "ke_tot.plot()\n",
    "(ke_tot - ke_filtered).plot()"
   ],
   "id": "7a3d0b52d8b85fcb",
   "outputs": [],
   "execution_count": null
  },
  {
   "metadata": {},
   "cell_type": "code",
   "source": "",
   "id": "ea2eb499b0973e7e",
   "outputs": [],
   "execution_count": null
  }
 ],
 "metadata": {
  "kernelspec": {
   "display_name": "Python 3",
   "language": "python",
   "name": "python3"
  },
  "language_info": {
   "codemirror_mode": {
    "name": "ipython",
    "version": 2
   },
   "file_extension": ".py",
   "mimetype": "text/x-python",
   "name": "python",
   "nbconvert_exporter": "python",
   "pygments_lexer": "ipython2",
   "version": "2.7.6"
  }
 },
 "nbformat": 4,
 "nbformat_minor": 5
}
