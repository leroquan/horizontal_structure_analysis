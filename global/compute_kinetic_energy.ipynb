{
 "cells": [
  {
   "cell_type": "code",
   "id": "initial_id",
   "metadata": {
    "collapsed": true
   },
   "source": [
    "import sys\n",
    "import numpy as np\n",
    "import matplotlib.pyplot as plt\n",
    "\n",
    "sys.path.append('..//')\n",
    "from utils_mitgcm import open_mitgcm_ds_from_config"
   ],
   "outputs": [],
   "execution_count": null
  },
  {
   "metadata": {},
   "cell_type": "code",
   "source": [
    "def compute_ke_snapshot(uvel, vvel, wvel, dx, dy, dz, rho=1000.0):\n",
    "    ke = 0.5 * rho * (uvel ** 2 + vvel ** 2 + wvel ** 2) * dx * dy * dz  # This gives J per cell\n",
    "\n",
    "    return ke / 1e6  # Convert to MJ"
   ],
   "id": "a92441b5d9cf9e0e",
   "outputs": [],
   "execution_count": null
  },
  {
   "metadata": {
    "collapsed": false,
    "jupyter": {
     "outputs_hidden": false
    }
   },
   "cell_type": "code",
   "source": [
    "model = 'geneva_dummy_extended'\n",
    "mitgcm_config, ds = open_mitgcm_ds_from_config('..//config.json', model)"
   ],
   "id": "14258b5987dec81a",
   "outputs": [],
   "execution_count": null
  },
  {
   "metadata": {},
   "cell_type": "code",
   "source": [
    "grid_resolution = 200\n",
    "ds['YC'] = np.arange(1, len(ds['YC']) + 1) * grid_resolution - grid_resolution / 2\n",
    "ds['XC'] = np.arange(1, len(ds['XC']) + 1) * grid_resolution - grid_resolution / 2\n",
    "ds['YG'] = np.arange(0, len(ds['YG'])) * grid_resolution\n",
    "ds['XG'] = np.arange(0, len(ds['XG'])) * grid_resolution"
   ],
   "id": "a704316a79b7df51",
   "outputs": [],
   "execution_count": null
  },
  {
   "metadata": {
    "collapsed": false,
    "jupyter": {
     "outputs_hidden": false
    }
   },
   "cell_type": "code",
   "source": [
    "%matplotlib inline\n",
    "t=-1\n",
    "plt.close('all')\n",
    "plt.figure(figsize=(15,7))\n",
    "ds_sel = ds['THETA'].isel(Z=0, time=t)\n",
    "ds_sel.where(ds_sel != 0, np.nan).plot()\n",
    "plt.title(ds_sel.time.values)\n",
    "#plt.savefig(r\"/home/leroquan@eawag.wroot.emp-eaw.ch/work_space/dummy_extended/figures/transect_location.png\")\n",
    "plt.show()"
   ],
   "id": "2fbaa63c0747d2f8",
   "outputs": [],
   "execution_count": null
  },
  {
   "metadata": {},
   "cell_type": "code",
   "source": [
    "aligned_u = ds.UVEL.rename({'XG':'XC'})\n",
    "aligned_u['XC'] = ds['XC']\n",
    "\n",
    "aligned_v = ds.VVEL.rename({'YG':'YC'})\n",
    "aligned_v['YC'] = ds['YC']\n",
    "\n",
    "aligned_w = ds.WVEL.rename({'Zl':'Z'})\n",
    "aligned_w['Z'] = ds['Z']"
   ],
   "id": "1655403e53f7583a",
   "outputs": [],
   "execution_count": null
  },
  {
   "metadata": {},
   "cell_type": "code",
   "source": "ke_surf = compute_ke_snapshot(aligned_u.isel(Z=0), aligned_v.isel(Z=0), aligned_w.isel(Z=0), 200, 200, 0.5)",
   "id": "2c3bb55f22e9be55",
   "outputs": [],
   "execution_count": null
  },
  {
   "metadata": {},
   "cell_type": "code",
   "source": "ke_surf.sum(dim=['XC','YC']).plot()",
   "id": "f9591004410bb1e8",
   "outputs": [],
   "execution_count": null
  }
 ],
 "metadata": {
  "kernelspec": {
   "display_name": "Python 3",
   "language": "python",
   "name": "python3"
  },
  "language_info": {
   "codemirror_mode": {
    "name": "ipython",
    "version": 2
   },
   "file_extension": ".py",
   "mimetype": "text/x-python",
   "name": "python",
   "nbconvert_exporter": "python",
   "pygments_lexer": "ipython2",
   "version": "2.7.6"
  }
 },
 "nbformat": 4,
 "nbformat_minor": 5
}
